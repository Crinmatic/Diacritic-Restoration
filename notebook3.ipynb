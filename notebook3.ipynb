{
 "cells": [
  {
   "cell_type": "markdown",
   "id": "7d427ee2",
   "metadata": {
    "papermill": {
     "duration": 0.025403,
     "end_time": "2022-01-23T06:37:25.636236",
     "exception": false,
     "start_time": "2022-01-23T06:37:25.610833",
     "status": "completed"
    },
    "tags": []
   },
   "source": [
    "## **Set up the environment**"
   ]
  },
  {
   "cell_type": "code",
   "execution_count": 1,
   "id": "7cec2757",
   "metadata": {
    "execution": {
     "iopub.execute_input": "2022-01-23T06:37:25.697879Z",
     "iopub.status.busy": "2022-01-23T06:37:25.697090Z",
     "iopub.status.idle": "2022-01-23T06:37:31.248176Z",
     "shell.execute_reply": "2022-01-23T06:37:31.247204Z",
     "shell.execute_reply.started": "2022-01-23T06:29:25.144703Z"
    },
    "id": "G0m3guWSohle",
    "papermill": {
     "duration": 5.586114,
     "end_time": "2022-01-23T06:37:31.248345",
     "exception": false,
     "start_time": "2022-01-23T06:37:25.662231",
     "status": "completed"
    },
    "tags": []
   },
   "outputs": [],
   "source": [
    "import matplotlib.pyplot as plt, seaborn as sns\n",
    "import numpy as np \n",
    "import pandas as pd\n",
    "import time, os\n",
    "import warnings\n",
    "warnings.simplefilter('ignore')\n",
    "\n",
    "#import tensorflow as tf\n",
    "from tensorflow import keras\n",
    "from tensorflow.keras.preprocessing.text import Tokenizer\n",
    "from tensorflow.keras.preprocessing.sequence import pad_sequences"
   ]
  },
  {
   "cell_type": "markdown",
   "id": "ad06579f",
   "metadata": {
    "papermill": {
     "duration": 0.023794,
     "end_time": "2022-01-23T06:37:31.296819",
     "exception": false,
     "start_time": "2022-01-23T06:37:31.273025",
     "status": "completed"
    },
    "tags": []
   },
   "source": [
    "### **Access Dataset**"
   ]
  },
  {
   "cell_type": "code",
   "execution_count": 2,
   "id": "13b3f05a",
   "metadata": {
    "execution": {
     "iopub.execute_input": "2022-01-23T06:37:31.351208Z",
     "iopub.status.busy": "2022-01-23T06:37:31.350465Z",
     "iopub.status.idle": "2022-01-23T06:37:35.640702Z",
     "shell.execute_reply": "2022-01-23T06:37:35.640137Z",
     "shell.execute_reply.started": "2022-01-23T06:29:30.681788Z"
    },
    "papermill": {
     "duration": 4.319207,
     "end_time": "2022-01-23T06:37:35.640971",
     "exception": false,
     "start_time": "2022-01-23T06:37:31.321764",
     "status": "completed"
    },
    "tags": []
   },
   "outputs": [
    {
     "name": "stdout",
     "output_type": "stream",
     "text": [
      "Downloading restoringdiacritics2.zip to /kaggle/working\r\n",
      " 96%|███████████████████████████████████████▍ | 265M/276M [00:02<00:00, 133MB/s]\r\n",
      "100%|█████████████████████████████████████████| 276M/276M [00:02<00:00, 106MB/s]\r\n"
     ]
    }
   ],
   "source": [
    "os.environ['KAGGLE_USERNAME'] = \"kingalagbe\"\n",
    "os.environ['KAGGLE_KEY'] = \"9d829fe67ac875f5eda3761e81b3811e\"\n",
    "\n",
    "!kaggle datasets download -d welcomehere/restoringdiacritics2"
   ]
  },
  {
   "cell_type": "markdown",
   "id": "4cc29679",
   "metadata": {
    "papermill": {
     "duration": 0.028514,
     "end_time": "2022-01-23T06:37:35.698835",
     "exception": false,
     "start_time": "2022-01-23T06:37:35.670321",
     "status": "completed"
    },
    "tags": []
   },
   "source": [
    "### **Extract the dataset**"
   ]
  },
  {
   "cell_type": "code",
   "execution_count": 3,
   "id": "04541310",
   "metadata": {
    "execution": {
     "iopub.execute_input": "2022-01-23T06:37:35.763587Z",
     "iopub.status.busy": "2022-01-23T06:37:35.762686Z",
     "iopub.status.idle": "2022-01-23T06:37:48.901879Z",
     "shell.execute_reply": "2022-01-23T06:37:48.901130Z",
     "shell.execute_reply.started": "2022-01-23T06:29:33.026448Z"
    },
    "papermill": {
     "duration": 13.175151,
     "end_time": "2022-01-23T06:37:48.902061",
     "exception": false,
     "start_time": "2022-01-23T06:37:35.726910",
     "status": "completed"
    },
    "tags": []
   },
   "outputs": [
    {
     "name": "stdout",
     "output_type": "stream",
     "text": [
      "Extracting all the files now...\n",
      "Done!\n",
      "12.2 seconds...\n"
     ]
    }
   ],
   "source": [
    "#Extraction process\n",
    "\n",
    "#1.0\n",
    "from zipfile import ZipFile\n",
    "\n",
    "#2.0\n",
    "file_name = \"./restoringdiacritics2.zip\"\n",
    "\n",
    "#3.0\n",
    "with ZipFile(file_name, 'r') as Zip: \n",
    "  #zip.printdir()\n",
    "  lst = Zip.namelist()\n",
    "  \n",
    "  #3.1\n",
    "  print('Extracting all the files now...') \n",
    "  tick = time.time()\n",
    "  Zip.extractall()\n",
    "  tock = time.time()\n",
    "  print(f'Done!\\n{round((tock-tick),2)} seconds...')"
   ]
  },
  {
   "cell_type": "code",
   "execution_count": 4,
   "id": "6898a6e5",
   "metadata": {
    "execution": {
     "iopub.execute_input": "2022-01-23T06:37:49.326585Z",
     "iopub.status.busy": "2022-01-23T06:37:49.325832Z",
     "iopub.status.idle": "2022-01-23T06:37:49.363052Z",
     "shell.execute_reply": "2022-01-23T06:37:49.362547Z",
     "shell.execute_reply.started": "2022-01-23T06:29:46.423126Z"
    },
    "jupyter": {
     "source_hidden": true
    },
    "papermill": {
     "duration": 0.406498,
     "end_time": "2022-01-23T06:37:49.363174",
     "exception": false,
     "start_time": "2022-01-23T06:37:48.956676",
     "status": "completed"
    },
    "tags": []
   },
   "outputs": [],
   "source": [
    "os.remove('./restoringdiacritics2.zip')"
   ]
  },
  {
   "cell_type": "code",
   "execution_count": 5,
   "id": "86f68afd",
   "metadata": {
    "execution": {
     "iopub.execute_input": "2022-01-23T06:37:49.430128Z",
     "iopub.status.busy": "2022-01-23T06:37:49.429321Z",
     "iopub.status.idle": "2022-01-23T06:37:49.448766Z",
     "shell.execute_reply": "2022-01-23T06:37:49.449155Z",
     "shell.execute_reply.started": "2022-01-23T06:29:46.474314Z"
    },
    "id": "xSBtUCWdohlh",
    "papermill": {
     "duration": 0.053066,
     "end_time": "2022-01-23T06:37:49.449289",
     "exception": false,
     "start_time": "2022-01-23T06:37:49.396223",
     "status": "completed"
    },
    "tags": []
   },
   "outputs": [],
   "source": [
    "path = \"./\"\n",
    "train_rows = 1_000\n",
    "test_rows = 1_000\n",
    "\n",
    "train = pd.read_csv(path + \"new_train.csv\", nrows = train_rows)\n",
    "test = pd.read_csv(path + \"new_test.csv\", nrows = test_rows)"
   ]
  },
  {
   "cell_type": "code",
   "execution_count": 6,
   "id": "7f2edb49",
   "metadata": {
    "execution": {
     "iopub.execute_input": "2022-01-23T06:37:49.515298Z",
     "iopub.status.busy": "2022-01-23T06:37:49.514563Z",
     "iopub.status.idle": "2022-01-23T06:37:49.526114Z",
     "shell.execute_reply": "2022-01-23T06:37:49.526515Z",
     "shell.execute_reply.started": "2022-01-23T06:29:46.501421Z"
    },
    "id": "NIkoIrBkohli",
    "outputId": "5a7a2792-a546-439c-9af0-1b9321bbb3ae",
    "papermill": {
     "duration": 0.048225,
     "end_time": "2022-01-23T06:37:49.526637",
     "exception": false,
     "start_time": "2022-01-23T06:37:49.478412",
     "status": "completed"
    },
    "tags": []
   },
   "outputs": [
    {
     "data": {
      "text/html": [
       "<div>\n",
       "<style scoped>\n",
       "    .dataframe tbody tr th:only-of-type {\n",
       "        vertical-align: middle;\n",
       "    }\n",
       "\n",
       "    .dataframe tbody tr th {\n",
       "        vertical-align: top;\n",
       "    }\n",
       "\n",
       "    .dataframe thead th {\n",
       "        text-align: right;\n",
       "    }\n",
       "</style>\n",
       "<table border=\"1\" class=\"dataframe\">\n",
       "  <thead>\n",
       "    <tr style=\"text-align: right;\">\n",
       "      <th></th>\n",
       "      <th>labels</th>\n",
       "      <th>feature</th>\n",
       "    </tr>\n",
       "  </thead>\n",
       "  <tbody>\n",
       "    <tr>\n",
       "      <th>995</th>\n",
       "      <td>\\t jésù kórìíra ìwà ta  ni  yóò  mú  mi àti ìw...</td>\n",
       "      <td>jesu koriira iwa ta  ni  yoo  mu  mi ati iwa i...</td>\n",
       "    </tr>\n",
       "    <tr>\n",
       "      <th>996</th>\n",
       "      <td>\\t bí òtítọ́ bíbélì ṣe ń sọni dòmìnira : bíbél...</td>\n",
       "      <td>bi otito bibeli se n soni dominira : bibeli so...</td>\n",
       "    </tr>\n",
       "    <tr>\n",
       "      <th>997</th>\n",
       "      <td>\\t ò tún tẹ òru àti ẹ̀sán lérí ba \\n</td>\n",
       "      <td>o tun te oru ati esan leri ba</td>\n",
       "    </tr>\n",
       "    <tr>\n",
       "      <th>998</th>\n",
       "      <td>\\t abrahamu àti sara sì ti di arúgbó: sara sì ...</td>\n",
       "      <td>abrahamu ati sara si ti di arugbo: sara si ti ...</td>\n",
       "    </tr>\n",
       "    <tr>\n",
       "      <th>999</th>\n",
       "      <td>\\t ṣugbọn ẹ̀yin arakunrin miẹlẹ́tàn ni yín bíi...</td>\n",
       "      <td>sugbon eyin arakunrin mieletan ni yin bii odo ...</td>\n",
       "    </tr>\n",
       "  </tbody>\n",
       "</table>\n",
       "</div>"
      ],
      "text/plain": [
       "                                                labels  \\\n",
       "995  \\t jésù kórìíra ìwà ta  ni  yóò  mú  mi àti ìw...   \n",
       "996  \\t bí òtítọ́ bíbélì ṣe ń sọni dòmìnira : bíbél...   \n",
       "997               \\t ò tún tẹ òru àti ẹ̀sán lérí ba \\n   \n",
       "998  \\t abrahamu àti sara sì ti di arúgbó: sara sì ...   \n",
       "999  \\t ṣugbọn ẹ̀yin arakunrin miẹlẹ́tàn ni yín bíi...   \n",
       "\n",
       "                                               feature  \n",
       "995  jesu koriira iwa ta  ni  yoo  mu  mi ati iwa i...  \n",
       "996  bi otito bibeli se n soni dominira : bibeli so...  \n",
       "997                      o tun te oru ati esan leri ba  \n",
       "998  abrahamu ati sara si ti di arugbo: sara si ti ...  \n",
       "999  sugbon eyin arakunrin mieletan ni yin bii odo ...  "
      ]
     },
     "execution_count": 6,
     "metadata": {},
     "output_type": "execute_result"
    }
   ],
   "source": [
    "train.tail()"
   ]
  },
  {
   "cell_type": "markdown",
   "id": "19fbe861",
   "metadata": {
    "papermill": {
     "duration": 0.029058,
     "end_time": "2022-01-23T06:37:49.585208",
     "exception": false,
     "start_time": "2022-01-23T06:37:49.556150",
     "status": "completed"
    },
    "tags": []
   },
   "source": [
    "### **Trigram generator**"
   ]
  },
  {
   "cell_type": "code",
   "execution_count": 7,
   "id": "3f9d14a6",
   "metadata": {
    "execution": {
     "iopub.execute_input": "2022-01-23T06:37:49.647426Z",
     "iopub.status.busy": "2022-01-23T06:37:49.646633Z",
     "iopub.status.idle": "2022-01-23T06:37:49.649195Z",
     "shell.execute_reply": "2022-01-23T06:37:49.648693Z",
     "shell.execute_reply.started": "2022-01-23T06:29:46.519619Z"
    },
    "papermill": {
     "duration": 0.034939,
     "end_time": "2022-01-23T06:37:49.649301",
     "exception": false,
     "start_time": "2022-01-23T06:37:49.614362",
     "status": "completed"
    },
    "tags": []
   },
   "outputs": [],
   "source": [
    "copy = train.copy()"
   ]
  },
  {
   "cell_type": "code",
   "execution_count": 8,
   "id": "c71fa559",
   "metadata": {
    "execution": {
     "iopub.execute_input": "2022-01-23T06:37:49.711232Z",
     "iopub.status.busy": "2022-01-23T06:37:49.710602Z",
     "iopub.status.idle": "2022-01-23T06:37:50.454686Z",
     "shell.execute_reply": "2022-01-23T06:37:50.455368Z",
     "shell.execute_reply.started": "2022-01-23T06:29:46.525126Z"
    },
    "papermill": {
     "duration": 0.776876,
     "end_time": "2022-01-23T06:37:50.455538",
     "exception": false,
     "start_time": "2022-01-23T06:37:49.678662",
     "status": "completed"
    },
    "tags": []
   },
   "outputs": [
    {
     "name": "stdout",
     "output_type": "stream",
     "text": [
      "[nltk_data] Downloading package punkt to /usr/share/nltk_data...\n",
      "[nltk_data]   Package punkt is already up-to-date!\n"
     ]
    },
    {
     "data": {
      "text/plain": [
       "True"
      ]
     },
     "execution_count": 8,
     "metadata": {},
     "output_type": "execute_result"
    }
   ],
   "source": [
    "import nltk\n",
    "nltk.download('punkt')"
   ]
  },
  {
   "cell_type": "code",
   "execution_count": 9,
   "id": "b631e555",
   "metadata": {
    "execution": {
     "iopub.execute_input": "2022-01-23T06:37:50.532907Z",
     "iopub.status.busy": "2022-01-23T06:37:50.532243Z",
     "iopub.status.idle": "2022-01-23T06:37:50.931305Z",
     "shell.execute_reply": "2022-01-23T06:37:50.931708Z",
     "shell.execute_reply.started": "2022-01-23T06:29:47.267882Z"
    },
    "papermill": {
     "duration": 0.445839,
     "end_time": "2022-01-23T06:37:50.931898",
     "exception": false,
     "start_time": "2022-01-23T06:37:50.486059",
     "status": "completed"
    },
    "tags": []
   },
   "outputs": [],
   "source": [
    "F, L = [], []\n",
    "for sentence in zip(copy['labels'].str.replace('\\t ', '').str.replace(' \\n', '').values, copy['feature'].str.replace('\\t ', '').str.replace(' \\n', '').values):\n",
    "    tokensL, tokensF = nltk.word_tokenize(sentence[0]), nltk.word_tokenize(sentence[1])\n",
    "    for text in zip(tokensL, tokensF): \n",
    "        L.append(text[0])\n",
    "        F.append(text[1])\n",
    "        #break"
   ]
  },
  {
   "cell_type": "code",
   "execution_count": 10,
   "id": "2b97a354",
   "metadata": {
    "execution": {
     "iopub.execute_input": "2022-01-23T06:37:51.004115Z",
     "iopub.status.busy": "2022-01-23T06:37:51.003427Z",
     "iopub.status.idle": "2022-01-23T06:37:51.005573Z",
     "shell.execute_reply": "2022-01-23T06:37:51.006046Z",
     "shell.execute_reply.started": "2022-01-23T06:29:47.646216Z"
    },
    "papermill": {
     "duration": 0.044041,
     "end_time": "2022-01-23T06:37:51.006187",
     "exception": false,
     "start_time": "2022-01-23T06:37:50.962146",
     "status": "completed"
    },
    "tags": []
   },
   "outputs": [],
   "source": [
    "blockL = []\n",
    "blockF = []\n",
    "l, r = 0, 3\n",
    "for i in range(len(L)//3): \n",
    "    blockL.append(f\"\\t {' '.join(L[l:r])} \\n\")\n",
    "    blockF.append(' '.join(F[l:r]))\n",
    "    r += 3\n",
    "    l += 3"
   ]
  },
  {
   "cell_type": "code",
   "execution_count": 11,
   "id": "91f4b61d",
   "metadata": {
    "execution": {
     "iopub.execute_input": "2022-01-23T06:37:51.078015Z",
     "iopub.status.busy": "2022-01-23T06:37:51.077331Z",
     "iopub.status.idle": "2022-01-23T06:37:51.080041Z",
     "shell.execute_reply": "2022-01-23T06:37:51.080450Z",
     "shell.execute_reply.started": "2022-01-23T06:29:47.661849Z"
    },
    "papermill": {
     "duration": 0.044282,
     "end_time": "2022-01-23T06:37:51.080571",
     "exception": false,
     "start_time": "2022-01-23T06:37:51.036289",
     "status": "completed"
    },
    "tags": []
   },
   "outputs": [
    {
     "data": {
      "text/html": [
       "<div>\n",
       "<style scoped>\n",
       "    .dataframe tbody tr th:only-of-type {\n",
       "        vertical-align: middle;\n",
       "    }\n",
       "\n",
       "    .dataframe tbody tr th {\n",
       "        vertical-align: top;\n",
       "    }\n",
       "\n",
       "    .dataframe thead th {\n",
       "        text-align: right;\n",
       "    }\n",
       "</style>\n",
       "<table border=\"1\" class=\"dataframe\">\n",
       "  <thead>\n",
       "    <tr style=\"text-align: right;\">\n",
       "      <th></th>\n",
       "      <th>labels</th>\n",
       "      <th>feature</th>\n",
       "    </tr>\n",
       "  </thead>\n",
       "  <tbody>\n",
       "    <tr>\n",
       "      <th>0</th>\n",
       "      <td>\\t lẹ́yìn tí wọ́n \\n</td>\n",
       "      <td>leyin ti won</td>\n",
       "    </tr>\n",
       "    <tr>\n",
       "      <th>1</th>\n",
       "      <td>\\t ṣègbéyàwó aya náà \\n</td>\n",
       "      <td>segbeyawo aya naa</td>\n",
       "    </tr>\n",
       "    <tr>\n",
       "      <th>2</th>\n",
       "      <td>\\t sọ pé ẹ̀rí \\n</td>\n",
       "      <td>so pe eri</td>\n",
       "    </tr>\n",
       "    <tr>\n",
       "      <th>3</th>\n",
       "      <td>\\t ọkàn òun ń \\n</td>\n",
       "      <td>okan oun n</td>\n",
       "    </tr>\n",
       "    <tr>\n",
       "      <th>4</th>\n",
       "      <td>\\t da òun láàmú \\n</td>\n",
       "      <td>da oun laamu</td>\n",
       "    </tr>\n",
       "    <tr>\n",
       "      <th>5</th>\n",
       "      <td>\\t kódà ó ba \\n</td>\n",
       "      <td>koda o ba</td>\n",
       "    </tr>\n",
       "    <tr>\n",
       "      <th>6</th>\n",
       "      <td>\\t ayọ̀ ọjọ́ ìgbéyàwó \\n</td>\n",
       "      <td>ayo ojo igbeyawo</td>\n",
       "    </tr>\n",
       "    <tr>\n",
       "      <th>7</th>\n",
       "      <td>\\t rẹ̀ jẹ́ wọ̀nyí \\n</td>\n",
       "      <td>re je wonyi</td>\n",
       "    </tr>\n",
       "    <tr>\n",
       "      <th>8</th>\n",
       "      <td>\\t ni nwọ́n níláti \\n</td>\n",
       "      <td>ni nwon nilati</td>\n",
       "    </tr>\n",
       "    <tr>\n",
       "      <th>9</th>\n",
       "      <td>\\t pamọ́ ní mímọ́ \\n</td>\n",
       "      <td>pamo ni mimo</td>\n",
       "    </tr>\n",
       "  </tbody>\n",
       "</table>\n",
       "</div>"
      ],
      "text/plain": [
       "                     labels            feature\n",
       "0      \\t lẹ́yìn tí wọ́n \\n       leyin ti won\n",
       "1   \\t ṣègbéyàwó aya náà \\n  segbeyawo aya naa\n",
       "2          \\t sọ pé ẹ̀rí \\n          so pe eri\n",
       "3          \\t ọkàn òun ń \\n         okan oun n\n",
       "4        \\t da òun láàmú \\n       da oun laamu\n",
       "5           \\t kódà ó ba \\n          koda o ba\n",
       "6  \\t ayọ̀ ọjọ́ ìgbéyàwó \\n   ayo ojo igbeyawo\n",
       "7      \\t rẹ̀ jẹ́ wọ̀nyí \\n        re je wonyi\n",
       "8     \\t ni nwọ́n níláti \\n     ni nwon nilati\n",
       "9      \\t pamọ́ ní mímọ́ \\n       pamo ni mimo"
      ]
     },
     "execution_count": 11,
     "metadata": {},
     "output_type": "execute_result"
    }
   ],
   "source": [
    "temp_df = pd.DataFrame(blockL, columns = ['labels'])\n",
    "temp_df['feature'] = blockF\n",
    "temp_df.head(10)"
   ]
  },
  {
   "cell_type": "code",
   "execution_count": 12,
   "id": "4233edfe",
   "metadata": {
    "execution": {
     "iopub.execute_input": "2022-01-23T06:37:51.144589Z",
     "iopub.status.busy": "2022-01-23T06:37:51.143858Z",
     "iopub.status.idle": "2022-01-23T06:37:51.147013Z",
     "shell.execute_reply": "2022-01-23T06:37:51.146499Z",
     "shell.execute_reply.started": "2022-01-23T06:29:47.680580Z"
    },
    "papermill": {
     "duration": 0.036751,
     "end_time": "2022-01-23T06:37:51.147115",
     "exception": false,
     "start_time": "2022-01-23T06:37:51.110364",
     "status": "completed"
    },
    "tags": []
   },
   "outputs": [
    {
     "data": {
      "text/plain": [
       "5727"
      ]
     },
     "execution_count": 12,
     "metadata": {},
     "output_type": "execute_result"
    }
   ],
   "source": [
    "# Number of Rows\n",
    "len(temp_df)"
   ]
  },
  {
   "cell_type": "code",
   "execution_count": 13,
   "id": "79eee7a3",
   "metadata": {
    "execution": {
     "iopub.execute_input": "2022-01-23T06:37:51.212189Z",
     "iopub.status.busy": "2022-01-23T06:37:51.211489Z",
     "iopub.status.idle": "2022-01-23T06:37:51.213947Z",
     "shell.execute_reply": "2022-01-23T06:37:51.213524Z",
     "shell.execute_reply.started": "2022-01-23T06:29:47.691392Z"
    },
    "papermill": {
     "duration": 0.035801,
     "end_time": "2022-01-23T06:37:51.214055",
     "exception": false,
     "start_time": "2022-01-23T06:37:51.178254",
     "status": "completed"
    },
    "tags": []
   },
   "outputs": [],
   "source": [
    "# Replacing the train DataFrame with the temporary (temp) DataFrame\n",
    "train = temp_df\n",
    "train_rows = len(temp_df)\n",
    "#test_rows = 1_000"
   ]
  },
  {
   "cell_type": "code",
   "execution_count": 14,
   "id": "b271d1de",
   "metadata": {
    "execution": {
     "iopub.execute_input": "2022-01-23T06:37:51.278094Z",
     "iopub.status.busy": "2022-01-23T06:37:51.277425Z",
     "iopub.status.idle": "2022-01-23T06:37:51.279395Z",
     "shell.execute_reply": "2022-01-23T06:37:51.279776Z",
     "shell.execute_reply.started": "2022-01-23T06:29:47.699390Z"
    },
    "id": "xED17j13ohli",
    "papermill": {
     "duration": 0.035421,
     "end_time": "2022-01-23T06:37:51.279915",
     "exception": false,
     "start_time": "2022-01-23T06:37:51.244494",
     "status": "completed"
    },
    "tags": []
   },
   "outputs": [],
   "source": [
    "#from nltk.tokenize import word_tokenize\n",
    "#train_token = train.feature.apply(word_tokenize)"
   ]
  },
  {
   "cell_type": "code",
   "execution_count": 15,
   "id": "319e21d3",
   "metadata": {
    "execution": {
     "iopub.execute_input": "2022-01-23T06:37:51.345992Z",
     "iopub.status.busy": "2022-01-23T06:37:51.345328Z",
     "iopub.status.idle": "2022-01-23T06:37:51.347748Z",
     "shell.execute_reply": "2022-01-23T06:37:51.347307Z",
     "shell.execute_reply.started": "2022-01-23T06:29:47.708692Z"
    },
    "papermill": {
     "duration": 0.03699,
     "end_time": "2022-01-23T06:37:51.347856",
     "exception": false,
     "start_time": "2022-01-23T06:37:51.310866",
     "status": "completed"
    },
    "tags": []
   },
   "outputs": [],
   "source": [
    "input_texts = []\n",
    "target_texts = []\n",
    "input_chars = set()\n",
    "target_chars = set()"
   ]
  },
  {
   "cell_type": "code",
   "execution_count": 16,
   "id": "bc455628",
   "metadata": {
    "execution": {
     "iopub.execute_input": "2022-01-23T06:37:51.412921Z",
     "iopub.status.busy": "2022-01-23T06:37:51.412343Z",
     "iopub.status.idle": "2022-01-23T06:37:51.414995Z",
     "shell.execute_reply": "2022-01-23T06:37:51.414550Z",
     "shell.execute_reply.started": "2022-01-23T06:29:47.717965Z"
    },
    "papermill": {
     "duration": 0.036852,
     "end_time": "2022-01-23T06:37:51.415098",
     "exception": false,
     "start_time": "2022-01-23T06:37:51.378246",
     "status": "completed"
    },
    "tags": []
   },
   "outputs": [],
   "source": [
    "n = train.feature.tolist()\n",
    "input_texts.append(n)"
   ]
  },
  {
   "cell_type": "code",
   "execution_count": 17,
   "id": "e9717bd4",
   "metadata": {
    "execution": {
     "iopub.execute_input": "2022-01-23T06:37:51.481049Z",
     "iopub.status.busy": "2022-01-23T06:37:51.480436Z",
     "iopub.status.idle": "2022-01-23T06:37:51.483104Z",
     "shell.execute_reply": "2022-01-23T06:37:51.482663Z",
     "shell.execute_reply.started": "2022-01-23T06:29:47.729961Z"
    },
    "papermill": {
     "duration": 0.037571,
     "end_time": "2022-01-23T06:37:51.483203",
     "exception": false,
     "start_time": "2022-01-23T06:37:51.445632",
     "status": "completed"
    },
    "tags": []
   },
   "outputs": [],
   "source": [
    "m = train.labels.tolist()\n",
    "target_texts.append(m)"
   ]
  },
  {
   "cell_type": "code",
   "execution_count": 18,
   "id": "167aa779",
   "metadata": {
    "execution": {
     "iopub.execute_input": "2022-01-23T06:37:51.552137Z",
     "iopub.status.busy": "2022-01-23T06:37:51.551257Z",
     "iopub.status.idle": "2022-01-23T06:37:51.553103Z",
     "shell.execute_reply": "2022-01-23T06:37:51.553497Z",
     "shell.execute_reply.started": "2022-01-23T06:29:47.738483Z"
    },
    "papermill": {
     "duration": 0.040175,
     "end_time": "2022-01-23T06:37:51.553607",
     "exception": false,
     "start_time": "2022-01-23T06:37:51.513432",
     "status": "completed"
    },
    "tags": []
   },
   "outputs": [],
   "source": [
    "for char in n:\n",
    "        if char not in input_chars:\n",
    "            input_chars.add(char)\n",
    "for char in m:\n",
    "        if char not in target_chars:\n",
    "            target_chars.add(char)"
   ]
  },
  {
   "cell_type": "code",
   "execution_count": 19,
   "id": "3216129a",
   "metadata": {
    "execution": {
     "iopub.execute_input": "2022-01-23T06:37:51.624419Z",
     "iopub.status.busy": "2022-01-23T06:37:51.622924Z",
     "iopub.status.idle": "2022-01-23T06:37:51.625033Z",
     "shell.execute_reply": "2022-01-23T06:37:51.625436Z",
     "shell.execute_reply.started": "2022-01-23T06:29:47.751154Z"
    },
    "papermill": {
     "duration": 0.041725,
     "end_time": "2022-01-23T06:37:51.625549",
     "exception": false,
     "start_time": "2022-01-23T06:37:51.583824",
     "status": "completed"
    },
    "tags": []
   },
   "outputs": [],
   "source": [
    "input_chars = sorted(list(input_chars))\n",
    "target_chars = sorted(list(target_chars))\n",
    "num_encoder_tokens = len(input_chars)\n",
    "num_decoder_tokens = len(target_chars)\n",
    "max_encoder_seq_length = max([len(txt) for txt in input_texts])\n",
    "max_decoder_seq_length = max([len(txt) for txt in target_texts])\n"
   ]
  },
  {
   "cell_type": "code",
   "execution_count": 20,
   "id": "d0923023",
   "metadata": {
    "execution": {
     "iopub.execute_input": "2022-01-23T06:37:51.691434Z",
     "iopub.status.busy": "2022-01-23T06:37:51.690763Z",
     "iopub.status.idle": "2022-01-23T06:37:51.694256Z",
     "shell.execute_reply": "2022-01-23T06:37:51.693827Z",
     "shell.execute_reply.started": "2022-01-23T06:29:47.764941Z"
    },
    "papermill": {
     "duration": 0.038424,
     "end_time": "2022-01-23T06:37:51.694366",
     "exception": false,
     "start_time": "2022-01-23T06:37:51.655942",
     "status": "completed"
    },
    "tags": []
   },
   "outputs": [
    {
     "name": "stdout",
     "output_type": "stream",
     "text": [
      "Number of samples: 1\n",
      "Number of unique input tokens: 5511\n",
      "Number of unique output tokens: 5545\n",
      "Max sequence length for inputs: 5727\n",
      "Max sequence length for outputs: 5727\n"
     ]
    }
   ],
   "source": [
    "#Print size\n",
    "print('Number of samples:', len(input_texts))\n",
    "print('Number of unique input tokens:', num_encoder_tokens)\n",
    "print('Number of unique output tokens:', num_decoder_tokens)\n",
    "print('Max sequence length for inputs:', max_encoder_seq_length)\n",
    "print('Max sequence length for outputs:', max_decoder_seq_length)"
   ]
  },
  {
   "cell_type": "code",
   "execution_count": 21,
   "id": "fc0e70c7",
   "metadata": {
    "execution": {
     "iopub.execute_input": "2022-01-23T06:37:51.766231Z",
     "iopub.status.busy": "2022-01-23T06:37:51.765380Z",
     "iopub.status.idle": "2022-01-23T06:37:51.826132Z",
     "shell.execute_reply": "2022-01-23T06:37:51.825550Z",
     "shell.execute_reply.started": "2022-01-23T06:29:47.777220Z"
    },
    "papermill": {
     "duration": 0.100521,
     "end_time": "2022-01-23T06:37:51.826295",
     "exception": false,
     "start_time": "2022-01-23T06:37:51.725774",
     "status": "completed"
    },
    "tags": []
   },
   "outputs": [],
   "source": [
    "#Define data for encoder and decoder\n",
    "input_token_id = dict([(char, i) for i, char in enumerate(input_chars)])\n",
    "target_token_id = dict([(char, i) for i, char in enumerate(target_chars)])\n",
    "\n",
    "encoder_in_data = np.zeros((len(input_texts), max_encoder_seq_length, num_encoder_tokens), dtype='float32')\n",
    "\n",
    "decoder_in_data = np.zeros((len(input_texts), max_decoder_seq_length, num_decoder_tokens), dtype='float32')\n",
    "\n",
    "decoder_target_data = np.zeros((len(input_texts), max_decoder_seq_length, num_decoder_tokens), dtype='float32')\n",
    "\n",
    "for i, (input_text, target_text) in enumerate(zip(input_texts, target_texts)):\n",
    "    for t, char in enumerate(input_text):\n",
    "        encoder_in_data[i, t, input_token_id[char]] = 1.\n",
    "    for t, char in enumerate(target_text):\n",
    "        decoder_in_data[i, t, target_token_id[char]] = 1.\n",
    "        if t > 0:\n",
    "            decoder_target_data[i, t - 1, target_token_id[char]] = 1."
   ]
  },
  {
   "cell_type": "code",
   "execution_count": 22,
   "id": "8dcc4113",
   "metadata": {
    "execution": {
     "iopub.execute_input": "2022-01-23T06:37:51.898644Z",
     "iopub.status.busy": "2022-01-23T06:37:51.897858Z",
     "iopub.status.idle": "2022-01-23T06:37:51.899683Z",
     "shell.execute_reply": "2022-01-23T06:37:51.900114Z",
     "shell.execute_reply.started": "2022-01-23T06:29:47.839694Z"
    },
    "papermill": {
     "duration": 0.037641,
     "end_time": "2022-01-23T06:37:51.900236",
     "exception": false,
     "start_time": "2022-01-23T06:37:51.862595",
     "status": "completed"
    },
    "tags": []
   },
   "outputs": [],
   "source": [
    "#Hyperparameters\n",
    "batch_size = 64\n",
    "latent_dim = 256\n",
    "num_samples = 10000\n",
    "\n",
    "import tensorflow as tf"
   ]
  },
  {
   "cell_type": "code",
   "execution_count": 23,
   "id": "f29287b6",
   "metadata": {
    "execution": {
     "iopub.execute_input": "2022-01-23T06:37:51.970979Z",
     "iopub.status.busy": "2022-01-23T06:37:51.970427Z",
     "iopub.status.idle": "2022-01-23T06:37:54.974156Z",
     "shell.execute_reply": "2022-01-23T06:37:54.973678Z",
     "shell.execute_reply.started": "2022-01-23T06:34:00.160760Z"
    },
    "papermill": {
     "duration": 3.042251,
     "end_time": "2022-01-23T06:37:54.974284",
     "exception": false,
     "start_time": "2022-01-23T06:37:51.932033",
     "status": "completed"
    },
    "tags": []
   },
   "outputs": [
    {
     "name": "stderr",
     "output_type": "stream",
     "text": [
      "2022-01-23 06:37:52.051566: I tensorflow/stream_executor/cuda/cuda_gpu_executor.cc:937] successful NUMA node read from SysFS had negative value (-1), but there must be at least one NUMA node, so returning NUMA node zero\n",
      "2022-01-23 06:37:52.181020: I tensorflow/stream_executor/cuda/cuda_gpu_executor.cc:937] successful NUMA node read from SysFS had negative value (-1), but there must be at least one NUMA node, so returning NUMA node zero\n",
      "2022-01-23 06:37:52.181753: I tensorflow/stream_executor/cuda/cuda_gpu_executor.cc:937] successful NUMA node read from SysFS had negative value (-1), but there must be at least one NUMA node, so returning NUMA node zero\n",
      "2022-01-23 06:37:52.183757: I tensorflow/core/platform/cpu_feature_guard.cc:142] This TensorFlow binary is optimized with oneAPI Deep Neural Network Library (oneDNN) to use the following CPU instructions in performance-critical operations:  AVX2 AVX512F FMA\n",
      "To enable them in other operations, rebuild TensorFlow with the appropriate compiler flags.\n",
      "2022-01-23 06:37:52.185022: I tensorflow/stream_executor/cuda/cuda_gpu_executor.cc:937] successful NUMA node read from SysFS had negative value (-1), but there must be at least one NUMA node, so returning NUMA node zero\n",
      "2022-01-23 06:37:52.186031: I tensorflow/stream_executor/cuda/cuda_gpu_executor.cc:937] successful NUMA node read from SysFS had negative value (-1), but there must be at least one NUMA node, so returning NUMA node zero\n",
      "2022-01-23 06:37:52.186994: I tensorflow/stream_executor/cuda/cuda_gpu_executor.cc:937] successful NUMA node read from SysFS had negative value (-1), but there must be at least one NUMA node, so returning NUMA node zero\n",
      "2022-01-23 06:37:54.158453: I tensorflow/stream_executor/cuda/cuda_gpu_executor.cc:937] successful NUMA node read from SysFS had negative value (-1), but there must be at least one NUMA node, so returning NUMA node zero\n",
      "2022-01-23 06:37:54.159328: I tensorflow/stream_executor/cuda/cuda_gpu_executor.cc:937] successful NUMA node read from SysFS had negative value (-1), but there must be at least one NUMA node, so returning NUMA node zero\n",
      "2022-01-23 06:37:54.160033: I tensorflow/stream_executor/cuda/cuda_gpu_executor.cc:937] successful NUMA node read from SysFS had negative value (-1), but there must be at least one NUMA node, so returning NUMA node zero\n",
      "2022-01-23 06:37:54.160621: I tensorflow/core/common_runtime/gpu/gpu_device.cc:1510] Created device /job:localhost/replica:0/task:0/device:GPU:0 with 15403 MB memory:  -> device: 0, name: Tesla P100-PCIE-16GB, pci bus id: 0000:00:04.0, compute capability: 6.0\n"
     ]
    }
   ],
   "source": [
    "# Define an input sequence and process it.\n",
    "encoder_inputs = tf.keras.layers.Input(shape=(None, num_encoder_tokens))\n",
    "encoder = tf.keras.layers.LSTM(latent_dim, return_state=True)\n",
    "encoder_outputs, state_h, state_c = encoder(encoder_inputs)\n",
    "\n",
    "# We discard `encoder_outputs` and only keep the states.\n",
    "encoder_states = [state_h, state_c]\n",
    "\n",
    "# Set up the decoder, using `encoder_states` as initial state.\n",
    "decoder_inputs = tf.keras.layers.Input(shape=(None, num_decoder_tokens))\n",
    "# We set up our decoder to return full output sequences,\n",
    "# and to return internal states as well. We don't use the \n",
    "# return states in the training model, but we will use them in inference.\n",
    "decoder_lstm = tf.keras.layers.LSTM(latent_dim, return_sequences=True, return_state=True)\n",
    "decoder_outputs, _, _ = decoder_lstm(decoder_inputs,\n",
    "                                     initial_state=encoder_states)\n",
    "decoder_dense = tf.keras.layers.Dense(num_decoder_tokens, activation='softmax')\n",
    "decoder_outputs = decoder_dense(decoder_outputs)\n",
    "\n",
    "\n",
    "# Define the model that will turn\n",
    "# encoder_input_data` & `decoder_input_data` into `decoder_target_data`\n",
    "model = tf.keras.Model([encoder_inputs, decoder_inputs], decoder_outputs)\n",
    "\n",
    "# Define your optimizer\n",
    "Adam = tf.keras.optimizers.Adam(\n",
    "    learning_rate=0.01, beta_1=0.9, beta_2=0.999, epsilon=1e-07, amsgrad=False,\n",
    "    name='Adam')\n",
    "\n",
    "#Compiling and training the model\n",
    "model.compile(optimizer=Adam , loss='categorical_crossentropy', metrics = ['categorical_accuracy'])\n",
    " "
   ]
  },
  {
   "cell_type": "code",
   "execution_count": 24,
   "id": "d98d6de8",
   "metadata": {
    "execution": {
     "iopub.execute_input": "2022-01-23T06:37:55.042578Z",
     "iopub.status.busy": "2022-01-23T06:37:55.041748Z",
     "iopub.status.idle": "2022-01-23T06:37:55.789181Z",
     "shell.execute_reply": "2022-01-23T06:37:55.790247Z",
     "shell.execute_reply.started": "2022-01-23T06:34:00.604811Z"
    },
    "papermill": {
     "duration": 0.784605,
     "end_time": "2022-01-23T06:37:55.790472",
     "exception": false,
     "start_time": "2022-01-23T06:37:55.005867",
     "status": "completed"
    },
    "tags": []
   },
   "outputs": [
    {
     "name": "stdout",
     "output_type": "stream",
     "text": [
      "Model: \"model\"\n",
      "__________________________________________________________________________________________________\n",
      "Layer (type)                    Output Shape         Param #     Connected to                     \n",
      "==================================================================================================\n",
      "input_1 (InputLayer)            [(None, None, 5511)] 0                                            \n",
      "__________________________________________________________________________________________________\n",
      "input_2 (InputLayer)            [(None, None, 5545)] 0                                            \n",
      "__________________________________________________________________________________________________\n",
      "lstm (LSTM)                     [(None, 256), (None, 5906432     input_1[0][0]                    \n",
      "__________________________________________________________________________________________________\n",
      "lstm_1 (LSTM)                   [(None, None, 256),  5941248     input_2[0][0]                    \n",
      "                                                                 lstm[0][1]                       \n",
      "                                                                 lstm[0][2]                       \n",
      "__________________________________________________________________________________________________\n",
      "dense (Dense)                   (None, None, 5545)   1425065     lstm_1[0][0]                     \n",
      "==================================================================================================\n",
      "Total params: 13,272,745\n",
      "Trainable params: 13,272,745\n",
      "Non-trainable params: 0\n",
      "__________________________________________________________________________________________________\n"
     ]
    },
    {
     "data": {
      "image/png": "[encoded data removed]",
      "text/plain": [
       "<IPython.core.display.Image object>"
      ]
     },
     "execution_count": 24,
     "metadata": {},
     "output_type": "execute_result"
    }
   ],
   "source": [
    "\n",
    "model.summary()\n",
    "\n",
    "#Visuaize the model\n",
    "from tensorflow.keras.utils import plot_model\n",
    "plot_model(model,show_shapes=True)"
   ]
  },
  {
   "cell_type": "code",
   "execution_count": 25,
   "id": "9536414c",
   "metadata": {
    "execution": {
     "iopub.execute_input": "2022-01-23T06:37:55.911517Z",
     "iopub.status.busy": "2022-01-23T06:37:55.910705Z",
     "iopub.status.idle": "2022-01-23T06:37:55.913947Z",
     "shell.execute_reply": "2022-01-23T06:37:55.914580Z",
     "shell.execute_reply.started": "2022-01-23T06:34:00.830428Z"
    },
    "papermill": {
     "duration": 0.068673,
     "end_time": "2022-01-23T06:37:55.914792",
     "exception": false,
     "start_time": "2022-01-23T06:37:55.846119",
     "status": "completed"
    },
    "tags": []
   },
   "outputs": [],
   "source": [
    "# Split the training dataset in train and val data\n",
    "lim = int(0.8 * train_rows)\n",
    "dec_lim = int(0.8 * decoder_target_data.shape[1])\n",
    "\n",
    "\n",
    "encoder_in_dataT, encoder_in_dataV = encoder_in_data[:, :lim, :], encoder_in_data[:, lim: , :]\n",
    "decoder_in_dataT, decoder_in_dataV = decoder_in_data[:, :lim, :], decoder_in_data[:, lim: , :]\n",
    "decoder_target_dataT, decoder_target_dataV = decoder_target_data[:, :dec_lim, :], decoder_target_data[:, dec_lim: , :]"
   ]
  },
  {
   "cell_type": "code",
   "execution_count": 26,
   "id": "81b8e81a",
   "metadata": {
    "execution": {
     "iopub.execute_input": "2022-01-23T06:37:56.033460Z",
     "iopub.status.busy": "2022-01-23T06:37:56.032524Z",
     "iopub.status.idle": "2022-01-23T06:37:56.036431Z",
     "shell.execute_reply": "2022-01-23T06:37:56.034199Z",
     "shell.execute_reply.started": "2022-01-23T06:34:01.014585Z"
    },
    "papermill": {
     "duration": 0.068389,
     "end_time": "2022-01-23T06:37:56.036590",
     "exception": false,
     "start_time": "2022-01-23T06:37:55.968201",
     "status": "completed"
    },
    "tags": []
   },
   "outputs": [
    {
     "name": "stdout",
     "output_type": "stream",
     "text": [
      "encoder_in_data shape: (1, 4581, 5511) (1, 1146, 5511)\n",
      "decoder_in_data shape: (1, 4581, 5545) (1, 1146, 5545)\n",
      "decoder_target_data shape: (1, 4581, 5545) (1, 1146, 5545)\n"
     ]
    }
   ],
   "source": [
    "#Model data Shape\n",
    "print(\"encoder_in_data shape:\", encoder_in_dataT.shape, encoder_in_dataV.shape)\n",
    "print(\"decoder_in_data shape:\", decoder_in_dataT.shape, decoder_in_dataV.shape)\n",
    "print(\"decoder_target_data shape:\", decoder_target_dataT.shape, decoder_target_dataV.shape)"
   ]
  },
  {
   "cell_type": "code",
   "execution_count": 27,
   "id": "0b33452e",
   "metadata": {
    "_kg_hide-output": true,
    "execution": {
     "iopub.execute_input": "2022-01-23T06:37:56.158761Z",
     "iopub.status.busy": "2022-01-23T06:37:56.157941Z",
     "iopub.status.idle": "2022-01-23T06:39:21.261457Z",
     "shell.execute_reply": "2022-01-23T06:39:21.261913Z",
     "shell.execute_reply.started": "2022-01-23T06:34:02.980376Z"
    },
    "papermill": {
     "duration": 85.171778,
     "end_time": "2022-01-23T06:39:21.262099",
     "exception": false,
     "start_time": "2022-01-23T06:37:56.090321",
     "status": "completed"
    },
    "tags": []
   },
   "outputs": [
    {
     "name": "stderr",
     "output_type": "stream",
     "text": [
      "2022-01-23 06:37:57.005080: I tensorflow/compiler/mlir/mlir_graph_optimization_pass.cc:185] None of the MLIR Optimization Passes are enabled (registered 2)\n"
     ]
    },
    {
     "name": "stdout",
     "output_type": "stream",
     "text": [
      "Epoch 1/100\n"
     ]
    },
    {
     "name": "stderr",
     "output_type": "stream",
     "text": [
      "2022-01-23 06:38:00.717714: I tensorflow/stream_executor/cuda/cuda_dnn.cc:369] Loaded cuDNN version 8005\n"
     ]
    },
    {
     "name": "stdout",
     "output_type": "stream",
     "text": [
      "1/1 [==============================] - 5s 5s/step - loss: 8.6206 - categorical_accuracy: 0.0000e+00\n",
      "Epoch 2/100\n",
      "1/1 [==============================] - 1s 526ms/step - loss: 8.6062 - categorical_accuracy: 0.0692\n",
      "Epoch 3/100\n",
      "1/1 [==============================] - 1s 532ms/step - loss: 8.5789 - categorical_accuracy: 0.0020\n",
      "Epoch 4/100\n",
      "1/1 [==============================] - 1s 543ms/step - loss: 8.4602 - categorical_accuracy: 0.0013\n",
      "Epoch 5/100\n",
      "1/1 [==============================] - 1s 560ms/step - loss: 8.8482 - categorical_accuracy: 2.1829e-04\n",
      "Epoch 6/100\n",
      "1/1 [==============================] - 1s 533ms/step - loss: 8.7611 - categorical_accuracy: 0.0013\n",
      "Epoch 7/100\n",
      "1/1 [==============================] - 1s 548ms/step - loss: 8.4656 - categorical_accuracy: 8.7317e-04\n",
      "Epoch 8/100\n",
      "1/1 [==============================] - 1s 518ms/step - loss: 8.4795 - categorical_accuracy: 8.7317e-04\n",
      "Epoch 9/100\n",
      "1/1 [==============================] - 0s 483ms/step - loss: 8.4350 - categorical_accuracy: 0.0020\n",
      "Epoch 10/100\n",
      "1/1 [==============================] - 1s 530ms/step - loss: 8.4286 - categorical_accuracy: 0.2290\n",
      "Epoch 11/100\n",
      "1/1 [==============================] - 1s 554ms/step - loss: 8.3936 - categorical_accuracy: 0.0017\n",
      "Epoch 12/100\n",
      "1/1 [==============================] - 1s 552ms/step - loss: 8.3314 - categorical_accuracy: 0.0024\n",
      "Epoch 13/100\n",
      "1/1 [==============================] - 0s 485ms/step - loss: 8.2693 - categorical_accuracy: 0.0031\n",
      "Epoch 14/100\n",
      "1/1 [==============================] - 1s 523ms/step - loss: 8.2375 - categorical_accuracy: 0.0026\n",
      "Epoch 15/100\n",
      "1/1 [==============================] - 1s 553ms/step - loss: 8.1480 - categorical_accuracy: 0.0044\n",
      "Epoch 16/100\n",
      "1/1 [==============================] - 1s 535ms/step - loss: 8.0867 - categorical_accuracy: 0.0074\n",
      "Epoch 17/100\n",
      "1/1 [==============================] - 1s 520ms/step - loss: 8.2488 - categorical_accuracy: 0.0057\n",
      "Epoch 18/100\n",
      "1/1 [==============================] - 1s 626ms/step - loss: 8.2266 - categorical_accuracy: 0.0544\n",
      "Epoch 19/100\n",
      "1/1 [==============================] - 0s 497ms/step - loss: 8.2458 - categorical_accuracy: 0.0098\n",
      "Epoch 20/100\n",
      "1/1 [==============================] - 1s 515ms/step - loss: 8.1351 - categorical_accuracy: 0.0172\n",
      "Epoch 21/100\n",
      "1/1 [==============================] - 1s 558ms/step - loss: 8.0931 - categorical_accuracy: 0.0114\n",
      "Epoch 22/100\n",
      "1/1 [==============================] - 0s 486ms/step - loss: 8.1141 - categorical_accuracy: 0.0105\n",
      "Epoch 23/100\n",
      "1/1 [==============================] - 0s 479ms/step - loss: 8.0582 - categorical_accuracy: 0.0196\n",
      "Epoch 24/100\n",
      "1/1 [==============================] - 0s 479ms/step - loss: 7.9990 - categorical_accuracy: 0.0286\n",
      "Epoch 25/100\n",
      "1/1 [==============================] - 1s 536ms/step - loss: 7.9133 - categorical_accuracy: 0.0290\n",
      "Epoch 26/100\n",
      "1/1 [==============================] - 1s 549ms/step - loss: 7.6933 - categorical_accuracy: 0.0264\n",
      "Epoch 27/100\n",
      "1/1 [==============================] - 1s 550ms/step - loss: 7.4227 - categorical_accuracy: 0.0969\n",
      "Epoch 28/100\n",
      "1/1 [==============================] - 1s 513ms/step - loss: 7.1618 - categorical_accuracy: 0.1161\n",
      "Epoch 29/100\n",
      "1/1 [==============================] - 0s 489ms/step - loss: 7.0876 - categorical_accuracy: 0.1524\n",
      "Epoch 30/100\n",
      "1/1 [==============================] - 1s 551ms/step - loss: 6.8296 - categorical_accuracy: 0.1487\n",
      "Epoch 31/100\n",
      "1/1 [==============================] - 1s 601ms/step - loss: 6.5653 - categorical_accuracy: 0.1236\n",
      "Epoch 32/100\n",
      "1/1 [==============================] - 1s 548ms/step - loss: 6.2428 - categorical_accuracy: 0.1508\n",
      "Epoch 33/100\n",
      "1/1 [==============================] - 1s 578ms/step - loss: 5.8524 - categorical_accuracy: 0.1467\n",
      "Epoch 34/100\n",
      "1/1 [==============================] - 1s 586ms/step - loss: 5.4205 - categorical_accuracy: 0.1417\n",
      "Epoch 35/100\n",
      "1/1 [==============================] - 1s 591ms/step - loss: 4.9857 - categorical_accuracy: 0.1511\n",
      "Epoch 36/100\n",
      "1/1 [==============================] - 1s 576ms/step - loss: 4.6326 - categorical_accuracy: 0.1722\n",
      "Epoch 37/100\n",
      "1/1 [==============================] - 1s 577ms/step - loss: 4.1810 - categorical_accuracy: 0.1855\n",
      "Epoch 38/100\n",
      "1/1 [==============================] - 1s 677ms/step - loss: 3.7636 - categorical_accuracy: 0.2161\n",
      "Epoch 39/100\n",
      "1/1 [==============================] - 1s 576ms/step - loss: 3.3970 - categorical_accuracy: 0.2364\n",
      "Epoch 40/100\n",
      "1/1 [==============================] - 1s 542ms/step - loss: 3.0222 - categorical_accuracy: 0.2744\n",
      "Epoch 41/100\n",
      "1/1 [==============================] - 0s 496ms/step - loss: 2.6846 - categorical_accuracy: 0.3200\n",
      "Epoch 42/100\n",
      "1/1 [==============================] - 1s 558ms/step - loss: 2.4324 - categorical_accuracy: 0.3864\n",
      "Epoch 43/100\n",
      "1/1 [==============================] - 1s 643ms/step - loss: 2.2343 - categorical_accuracy: 0.4246\n",
      "Epoch 44/100\n",
      "1/1 [==============================] - 1s 727ms/step - loss: 2.0802 - categorical_accuracy: 0.4473\n",
      "Epoch 45/100\n",
      "1/1 [==============================] - 1s 521ms/step - loss: 2.0005 - categorical_accuracy: 0.4554\n",
      "Epoch 46/100\n",
      "1/1 [==============================] - 0s 484ms/step - loss: 1.8967 - categorical_accuracy: 0.4578\n",
      "Epoch 47/100\n",
      "1/1 [==============================] - 1s 529ms/step - loss: 1.7957 - categorical_accuracy: 0.5014\n",
      "Epoch 48/100\n",
      "1/1 [==============================] - 0s 481ms/step - loss: 1.6829 - categorical_accuracy: 0.5639\n",
      "Epoch 49/100\n",
      "1/1 [==============================] - 1s 512ms/step - loss: 1.5862 - categorical_accuracy: 0.6130\n",
      "Epoch 50/100\n",
      "1/1 [==============================] - 0s 485ms/step - loss: 1.5060 - categorical_accuracy: 0.6433\n",
      "Epoch 51/100\n",
      "1/1 [==============================] - 0s 491ms/step - loss: 1.4383 - categorical_accuracy: 0.6470\n",
      "Epoch 52/100\n",
      "1/1 [==============================] - 1s 552ms/step - loss: 1.3735 - categorical_accuracy: 0.6734\n",
      "Epoch 53/100\n",
      "1/1 [==============================] - 0s 499ms/step - loss: 1.3086 - categorical_accuracy: 0.7033\n",
      "Epoch 54/100\n",
      "1/1 [==============================] - 1s 528ms/step - loss: 1.2232 - categorical_accuracy: 0.7468\n",
      "Epoch 55/100\n",
      "1/1 [==============================] - 1s 545ms/step - loss: 1.1326 - categorical_accuracy: 0.8099\n",
      "Epoch 56/100\n",
      "1/1 [==============================] - 1s 537ms/step - loss: 1.0425 - categorical_accuracy: 0.8590\n",
      "Epoch 57/100\n",
      "1/1 [==============================] - 0s 478ms/step - loss: 0.9725 - categorical_accuracy: 0.8812\n",
      "Epoch 58/100\n",
      "1/1 [==============================] - 1s 620ms/step - loss: 0.9111 - categorical_accuracy: 0.8900\n",
      "Epoch 59/100\n",
      "1/1 [==============================] - 1s 571ms/step - loss: 0.8991 - categorical_accuracy: 0.8365\n",
      "Epoch 60/100\n",
      "1/1 [==============================] - 1s 527ms/step - loss: 0.9926 - categorical_accuracy: 0.6874\n",
      "Epoch 61/100\n",
      "1/1 [==============================] - 1s 511ms/step - loss: 0.8364 - categorical_accuracy: 0.8465\n",
      "Epoch 62/100\n",
      "1/1 [==============================] - 1s 562ms/step - loss: 0.7252 - categorical_accuracy: 0.9251\n",
      "Epoch 63/100\n",
      "1/1 [==============================] - 1s 503ms/step - loss: 0.6888 - categorical_accuracy: 0.9334\n",
      "Epoch 64/100\n",
      "1/1 [==============================] - 1s 535ms/step - loss: 0.6188 - categorical_accuracy: 0.9570\n",
      "Epoch 65/100\n",
      "1/1 [==============================] - 1s 511ms/step - loss: 0.5570 - categorical_accuracy: 0.9753\n",
      "Epoch 66/100\n",
      "1/1 [==============================] - 1s 563ms/step - loss: 0.5076 - categorical_accuracy: 0.9836\n",
      "Epoch 67/100\n",
      "1/1 [==============================] - 1s 500ms/step - loss: 0.4536 - categorical_accuracy: 0.9902\n",
      "Epoch 68/100\n",
      "1/1 [==============================] - 1s 537ms/step - loss: 0.4085 - categorical_accuracy: 0.9906\n",
      "Epoch 69/100\n",
      "1/1 [==============================] - 0s 486ms/step - loss: 0.3628 - categorical_accuracy: 0.9954\n",
      "Epoch 70/100\n",
      "1/1 [==============================] - 0s 464ms/step - loss: 0.3221 - categorical_accuracy: 0.9959\n",
      "Epoch 71/100\n",
      "1/1 [==============================] - 1s 560ms/step - loss: 0.2880 - categorical_accuracy: 0.9978\n",
      "Epoch 72/100\n",
      "1/1 [==============================] - 1s 568ms/step - loss: 0.2539 - categorical_accuracy: 0.9998\n",
      "Epoch 73/100\n",
      "1/1 [==============================] - 1s 544ms/step - loss: 0.2259 - categorical_accuracy: 0.9996\n",
      "Epoch 74/100\n",
      "1/1 [==============================] - 1s 532ms/step - loss: 0.2002 - categorical_accuracy: 1.0000\n",
      "Epoch 75/100\n",
      "1/1 [==============================] - 1s 507ms/step - loss: 0.1785 - categorical_accuracy: 1.0000\n",
      "Epoch 76/100\n",
      "1/1 [==============================] - 1s 576ms/step - loss: 0.1585 - categorical_accuracy: 1.0000\n",
      "Epoch 77/100\n",
      "1/1 [==============================] - 0s 485ms/step - loss: 0.1398 - categorical_accuracy: 1.0000\n",
      "Epoch 78/100\n",
      "1/1 [==============================] - 1s 649ms/step - loss: 0.1251 - categorical_accuracy: 1.0000\n",
      "Epoch 79/100\n",
      "1/1 [==============================] - 1s 600ms/step - loss: 0.1120 - categorical_accuracy: 1.0000\n",
      "Epoch 80/100\n",
      "1/1 [==============================] - 1s 534ms/step - loss: 0.1000 - categorical_accuracy: 1.0000\n",
      "Epoch 81/100\n",
      "1/1 [==============================] - 1s 573ms/step - loss: 0.0892 - categorical_accuracy: 1.0000\n",
      "Epoch 82/100\n",
      "1/1 [==============================] - 1s 591ms/step - loss: 0.0801 - categorical_accuracy: 1.0000\n",
      "Epoch 83/100\n",
      "1/1 [==============================] - 1s 545ms/step - loss: 0.0717 - categorical_accuracy: 1.0000\n",
      "Epoch 84/100\n",
      "1/1 [==============================] - 1s 559ms/step - loss: 0.0643 - categorical_accuracy: 1.0000\n",
      "Epoch 85/100\n",
      "1/1 [==============================] - 1s 560ms/step - loss: 0.0580 - categorical_accuracy: 1.0000\n",
      "Epoch 86/100\n",
      "1/1 [==============================] - 1s 514ms/step - loss: 0.0526 - categorical_accuracy: 1.0000\n",
      "Epoch 87/100\n",
      "1/1 [==============================] - 1s 584ms/step - loss: 0.0477 - categorical_accuracy: 1.0000\n",
      "Epoch 88/100\n",
      "1/1 [==============================] - 1s 570ms/step - loss: 0.0434 - categorical_accuracy: 1.0000\n",
      "Epoch 89/100\n",
      "1/1 [==============================] - 0s 486ms/step - loss: 0.0396 - categorical_accuracy: 1.0000\n",
      "Epoch 90/100\n",
      "1/1 [==============================] - 0s 484ms/step - loss: 0.0363 - categorical_accuracy: 1.0000\n",
      "Epoch 91/100\n",
      "1/1 [==============================] - 1s 516ms/step - loss: 0.0333 - categorical_accuracy: 1.0000\n",
      "Epoch 92/100\n",
      "1/1 [==============================] - 0s 489ms/step - loss: 0.0307 - categorical_accuracy: 1.0000\n",
      "Epoch 93/100\n",
      "1/1 [==============================] - 0s 487ms/step - loss: 0.0283 - categorical_accuracy: 1.0000\n",
      "Epoch 94/100\n",
      "1/1 [==============================] - 1s 511ms/step - loss: 0.0262 - categorical_accuracy: 1.0000\n",
      "Epoch 95/100\n",
      "1/1 [==============================] - 1s 571ms/step - loss: 0.0244 - categorical_accuracy: 1.0000\n",
      "Epoch 96/100\n",
      "1/1 [==============================] - 1s 563ms/step - loss: 0.0227 - categorical_accuracy: 1.0000\n",
      "Epoch 97/100\n",
      "1/1 [==============================] - 0s 488ms/step - loss: 0.0212 - categorical_accuracy: 1.0000\n",
      "Epoch 98/100\n",
      "1/1 [==============================] - 1s 664ms/step - loss: 0.0199 - categorical_accuracy: 1.0000\n",
      "Epoch 99/100\n",
      "1/1 [==============================] - 0s 444ms/step - loss: 0.0186 - categorical_accuracy: 1.0000\n",
      "Epoch 100/100\n",
      "1/1 [==============================] - 0s 459ms/step - loss: 0.0175 - categorical_accuracy: 1.0000\n"
     ]
    }
   ],
   "source": [
    "history = model.fit([encoder_in_dataT, decoder_in_dataT],\n",
    "          decoder_target_dataT,\n",
    "          batch_size = batch_size,\n",
    "          #validation_data = ([encoder_in_dataV, decoder_in_dataV], decoder_target_dataV),\n",
    "          epochs = 100)"
   ]
  },
  {
   "cell_type": "code",
   "execution_count": 28,
   "id": "ef9a7e7c",
   "metadata": {
    "execution": {
     "iopub.execute_input": "2022-01-23T06:39:21.486051Z",
     "iopub.status.busy": "2022-01-23T06:39:21.485148Z",
     "iopub.status.idle": "2022-01-23T06:39:23.594785Z",
     "shell.execute_reply": "2022-01-23T06:39:23.594352Z",
     "shell.execute_reply.started": "2022-01-23T06:36:20.507613Z"
    },
    "papermill": {
     "duration": 2.222931,
     "end_time": "2022-01-23T06:39:23.594921",
     "exception": false,
     "start_time": "2022-01-23T06:39:21.371990",
     "status": "completed"
    },
    "tags": []
   },
   "outputs": [
    {
     "name": "stdout",
     "output_type": "stream",
     "text": [
      "1/1 [==============================] - 1s 1s/step - loss: 3.3744 - categorical_accuracy: 0.7999\n"
     ]
    },
    {
     "data": {
      "text/plain": [
       "[3.3743512630462646, 0.7998952269554138]"
      ]
     },
     "execution_count": 28,
     "metadata": {},
     "output_type": "execute_result"
    }
   ],
   "source": [
    "model.evaluate([encoder_in_data, decoder_in_data], decoder_target_data)"
   ]
  },
  {
   "cell_type": "code",
   "execution_count": 29,
   "id": "7fdf17ac",
   "metadata": {
    "execution": {
     "iopub.execute_input": "2022-01-23T06:39:23.819309Z",
     "iopub.status.busy": "2022-01-23T06:39:23.818668Z",
     "iopub.status.idle": "2022-01-23T06:39:23.821262Z",
     "shell.execute_reply": "2022-01-23T06:39:23.821670Z",
     "shell.execute_reply.started": "2022-01-23T06:35:43.745541Z"
    },
    "papermill": {
     "duration": 0.116798,
     "end_time": "2022-01-23T06:39:23.821829",
     "exception": false,
     "start_time": "2022-01-23T06:39:23.705031",
     "status": "completed"
    },
    "tags": []
   },
   "outputs": [
    {
     "data": {
      "text/plain": [
       "dict_keys(['loss', 'categorical_accuracy'])"
      ]
     },
     "execution_count": 29,
     "metadata": {},
     "output_type": "execute_result"
    }
   ],
   "source": [
    "history.history.keys()"
   ]
  },
  {
   "cell_type": "code",
   "execution_count": 30,
   "id": "ebdb15bf",
   "metadata": {
    "execution": {
     "iopub.execute_input": "2022-01-23T06:39:24.051834Z",
     "iopub.status.busy": "2022-01-23T06:39:24.047643Z",
     "iopub.status.idle": "2022-01-23T06:39:24.482557Z",
     "shell.execute_reply": "2022-01-23T06:39:24.483008Z",
     "shell.execute_reply.started": "2022-01-23T06:35:28.546535Z"
    },
    "papermill": {
     "duration": 0.55219,
     "end_time": "2022-01-23T06:39:24.483167",
     "exception": false,
     "start_time": "2022-01-23T06:39:23.930977",
     "status": "completed"
    },
    "tags": []
   },
   "outputs": [
    {
     "data": {
      "image/png": "[encoded data removed]",
      "text/plain": [
       "<Figure size 432x288 with 1 Axes>"
      ]
     },
     "metadata": {},
     "output_type": "display_data"
    },
    {
     "data": {
      "image/png": "[encoded data removed]",
      "text/plain": [
       "<Figure size 432x288 with 1 Axes>"
      ]
     },
     "metadata": {},
     "output_type": "display_data"
    }
   ],
   "source": [
    "def plot_graphs(history, string):\n",
    "  plt.plot(history.history[string])\n",
    "  #plt.plot(history.history['val_'+string])\n",
    "  plt.xlabel(\"Epochs\")\n",
    "  plt.ylabel(string)\n",
    "  #plt.legend([string, 'val_'+string])\n",
    "  plt.show()\n",
    "  \n",
    "\n",
    "sns.set_theme()\n",
    "plot_graphs(history, \"categorical_accuracy\")\n",
    "plot_graphs(history, \"loss\")"
   ]
  },
  {
   "cell_type": "code",
   "execution_count": 31,
   "id": "e10a83fc",
   "metadata": {
    "execution": {
     "iopub.execute_input": "2022-01-23T06:39:24.716454Z",
     "iopub.status.busy": "2022-01-23T06:39:24.715613Z",
     "iopub.status.idle": "2022-01-23T06:39:24.930030Z",
     "shell.execute_reply": "2022-01-23T06:39:24.930488Z",
     "shell.execute_reply.started": "2022-01-23T06:32:19.696372Z"
    },
    "papermill": {
     "duration": 0.33373,
     "end_time": "2022-01-23T06:39:24.930637",
     "exception": false,
     "start_time": "2022-01-23T06:39:24.596907",
     "status": "completed"
    },
    "tags": []
   },
   "outputs": [],
   "source": [
    "#Define sampling models\n",
    "encoder_model = tf.keras.Model(encoder_inputs, encoder_states)\n",
    "decoder_state_input_h = tf.keras.layers.Input(shape=(latent_dim,))\n",
    "decoder_state_input_c = tf.keras.layers.Input(shape=(latent_dim,))\n",
    "decoder_states_inputs = [decoder_state_input_h, decoder_state_input_c]\n",
    "decoder_outputs, state_h, state_c = decoder_lstm(decoder_inputs, initial_state = decoder_states_inputs)\n",
    "decoder_states = [state_h, state_c]\n",
    "decoder_outputs = decoder_dense(decoder_outputs)\n",
    "decoder_model = tf.keras.Model([decoder_inputs] + decoder_states_inputs, [decoder_outputs] + decoder_states)\n",
    "reverse_input_char_index = dict((i, char) for char, i in input_token_id.items())\n",
    "reverse_target_char_index = dict((i, char) for char, i in target_token_id.items())"
   ]
  },
  {
   "cell_type": "code",
   "execution_count": 32,
   "id": "50231fba",
   "metadata": {
    "_kg_hide-input": true,
    "execution": {
     "iopub.execute_input": "2022-01-23T06:39:25.162367Z",
     "iopub.status.busy": "2022-01-23T06:39:25.161540Z",
     "iopub.status.idle": "2022-01-23T06:39:25.163592Z",
     "shell.execute_reply": "2022-01-23T06:39:25.163998Z",
     "shell.execute_reply.started": "2022-01-23T06:32:19.904876Z"
    },
    "papermill": {
     "duration": 0.121465,
     "end_time": "2022-01-23T06:39:25.164132",
     "exception": false,
     "start_time": "2022-01-23T06:39:25.042667",
     "status": "completed"
    },
    "tags": []
   },
   "outputs": [],
   "source": [
    "\n",
    "\n",
    "#Define Decode Sequence\n",
    "def decode_sequence(input_seq):\n",
    "    #Encode the input as state vectors.\n",
    "    states_value = encoder_model.predict(input_seq)\n",
    "\n",
    "    #Generate empty target sequence of length 1.\n",
    "    target_seq = np.zeros((1, 1, num_decoder_tokens))\n",
    "    #Get the first character of target sequence with the start character.\n",
    "    for i in target_token_id:\n",
    "        if i == '\\t':\n",
    "            k = i\n",
    "            target_seq[0, 0, k] = 1.\n",
    "\n",
    "    #Sampling loop for a batch of sequences\n",
    "    #(to simplify, here we assume a batch of size 1).\n",
    "    stop_condition = False\n",
    "    decoded_sentence = ''\n",
    "    while not stop_condition:\n",
    "        output_tokens, h, c = decoder_model.predict([target_seq] + states_value)\n",
    "\n",
    "        #Sample a token\n",
    "        sampled_token_index = np.argmax(output_tokens[0, -1, :])\n",
    "        sampled_char = reverse_target_char_index[sampled_token_index]\n",
    "        decoded_sentence += sampled_char\n",
    "\n",
    "        #Exit condition: either hit max length\n",
    "        #or find stop character.\n",
    "        if (sampled_char == '\\n' or\n",
    "           len(decoded_sentence) > max_decoder_seq_length):\n",
    "            stop_condition = True\n",
    "\n",
    "        #Update the target sequence (of length 1).\n",
    "        target_seq = np.zeros((1, 1, num_decoder_tokens))\n",
    "        target_seq[0, 0, sampled_token_index] = 1.\n",
    "\n",
    "        #Update states\n",
    "        states_value = [h, c]\n",
    "\n",
    "    return decoded_sentence"
   ]
  },
  {
   "cell_type": "code",
   "execution_count": 33,
   "id": "a36528a4",
   "metadata": {
    "_kg_hide-output": true,
    "execution": {
     "iopub.execute_input": "2022-01-23T06:39:25.507499Z",
     "iopub.status.busy": "2022-01-23T06:39:25.506674Z",
     "iopub.status.idle": "2022-01-23T06:39:40.690209Z",
     "shell.execute_reply": "2022-01-23T06:39:40.689712Z",
     "shell.execute_reply.started": "2022-01-23T06:32:19.913993Z"
    },
    "papermill": {
     "duration": 15.415627,
     "end_time": "2022-01-23T06:39:40.690340",
     "exception": false,
     "start_time": "2022-01-23T06:39:25.274713",
     "status": "completed"
    },
    "tags": []
   },
   "outputs": [
    {
     "name": "stdout",
     "output_type": "stream",
     "text": [
      "-\n",
      "Input sentence: ['segbeyawo aya naa', 'so pe eri', 'okan oun n', 'da oun laamu', 'koda o ba', 'ayo ojo igbeyawo', 're je wonyi', 'ni nwon nilati', 'pamo ni mimo']\n",
      "Decoded sentence: ['ṣègbéyàwó aya náà', 'sọ pé ẹ̀rí', 'ọkàn òun ń', 'da òun láàmú', 'kódà ó ba', 'ayọ̀ ọjọ́ ìgbéyàwó', 'rẹ̀ jẹ́ wọ̀nyí', 'ni nwọ́n níláti', 'pamọ́ ní mímọ́', 'tí a sì', ]\n"
     ]
    }
   ],
   "source": [
    "for seq_index in range(1):\n",
    "    input_seq = encoder_in_data[seq_index: seq_index + 1]\n",
    "    decoded_sentence = decode_sequence(input_seq)\n",
    "    print('-')\n",
    "    print('Input sentence:', input_texts[seq_index][1:10])\n",
    "    print(\"Decoded sentence: [\", end = \"\")\n",
    "    for i in decoded_sentence.split('\\n')[:10]: print(\"'\" + i.strip(' \\t'), end = \"', \")\n",
    "    print(']')"
   ]
  }
 ],
 "metadata": {
  "kernelspec": {
   "display_name": "Python 3",
   "language": "python",
   "name": "python3"
  },
  "language_info": {
   "codemirror_mode": {
    "name": "ipython",
    "version": 3
   },
   "file_extension": ".py",
   "mimetype": "text/x-python",
   "name": "python",
   "nbconvert_exporter": "python",
   "pygments_lexer": "ipython3",
   "version": "3.7.12"
  },
  "papermill": {
   "default_parameters": {},
   "duration": 146.449942,
   "end_time": "2022-01-23T06:39:43.586118",
   "environment_variables": {},
   "exception": null,
   "input_path": "__notebook__.ipynb",
   "output_path": "__notebook__.ipynb",
   "parameters": {},
   "start_time": "2022-01-23T06:37:17.136176",
   "version": "2.3.3"
  }
 },
 "nbformat": 4,
 "nbformat_minor": 5
}
