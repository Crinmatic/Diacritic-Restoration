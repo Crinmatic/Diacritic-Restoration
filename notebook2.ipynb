{
 "cells": [
  {
   "cell_type": "markdown",
   "id": "e71c9282",
   "metadata": {
    "papermill": {
     "duration": 0.034944,
     "end_time": "2022-01-23T01:37:25.178829",
     "exception": false,
     "start_time": "2022-01-23T01:37:25.143885",
     "status": "completed"
    },
    "tags": []
   },
   "source": [
    "## **Set up the environment**"
   ]
  },
  {
   "cell_type": "code",
   "execution_count": 1,
   "id": "1e2db289",
   "metadata": {
    "execution": {
     "iopub.execute_input": "2022-01-23T01:37:25.253541Z",
     "iopub.status.busy": "2022-01-23T01:37:25.252347Z",
     "iopub.status.idle": "2022-01-23T01:37:25.262959Z",
     "shell.execute_reply": "2022-01-23T01:37:25.263490Z",
     "shell.execute_reply.started": "2022-01-23T01:28:20.070928Z"
    },
    "id": "QlRx3XWF5q4U",
    "papermill": {
     "duration": 0.048949,
     "end_time": "2022-01-23T01:37:25.263825",
     "exception": false,
     "start_time": "2022-01-23T01:37:25.214876",
     "status": "completed"
    },
    "tags": []
   },
   "outputs": [],
   "source": [
    "import numpy as np \n",
    "import pandas as pd\n",
    "import os, time, random"
   ]
  },
  {
   "cell_type": "markdown",
   "id": "24458d90",
   "metadata": {
    "papermill": {
     "duration": 0.033888,
     "end_time": "2022-01-23T01:37:25.332220",
     "exception": false,
     "start_time": "2022-01-23T01:37:25.298332",
     "status": "completed"
    },
    "tags": []
   },
   "source": [
    "### **Access Dataset**"
   ]
  },
  {
   "cell_type": "code",
   "execution_count": 2,
   "id": "27af4716",
   "metadata": {
    "execution": {
     "iopub.execute_input": "2022-01-23T01:37:25.402683Z",
     "iopub.status.busy": "2022-01-23T01:37:25.402017Z",
     "iopub.status.idle": "2022-01-23T01:37:38.229365Z",
     "shell.execute_reply": "2022-01-23T01:37:38.228761Z",
     "shell.execute_reply.started": "2022-01-23T01:28:20.099651Z"
    },
    "id": "eioL_L6BCF1n",
    "outputId": "ef16a31a-cc41-4edb-a77b-3e0152c7ffa1",
    "papermill": {
     "duration": 12.863238,
     "end_time": "2022-01-23T01:37:38.229511",
     "exception": false,
     "start_time": "2022-01-23T01:37:25.366273",
     "status": "completed"
    },
    "tags": []
   },
   "outputs": [
    {
     "name": "stdout",
     "output_type": "stream",
     "text": [
      "Downloading restoringdiacritics1.zip to /kaggle/working\r\n",
      " 95%|██████████████████████████████████████▏ | 185M/194M [00:09<00:00, 25.8MB/s]\r\n",
      "100%|████████████████████████████████████████| 194M/194M [00:09<00:00, 22.4MB/s]\r\n"
     ]
    }
   ],
   "source": [
    "os.environ['KAGGLE_USERNAME'] = \"kingalagbe\"\n",
    "os.environ['KAGGLE_KEY'] = \"9d829fe67ac875f5eda3761e81b3811e\"\n",
    "\n",
    "!kaggle datasets download -d welcomehere/restoringdiacritics1"
   ]
  },
  {
   "cell_type": "markdown",
   "id": "7aa395e4",
   "metadata": {
    "papermill": {
     "duration": 0.037276,
     "end_time": "2022-01-23T01:37:38.307577",
     "exception": false,
     "start_time": "2022-01-23T01:37:38.270301",
     "status": "completed"
    },
    "tags": []
   },
   "source": [
    "### **Extract the dataset**"
   ]
  },
  {
   "cell_type": "code",
   "execution_count": 3,
   "id": "f8b7642b",
   "metadata": {
    "execution": {
     "iopub.execute_input": "2022-01-23T01:37:38.389733Z",
     "iopub.status.busy": "2022-01-23T01:37:38.388802Z",
     "iopub.status.idle": "2022-01-23T01:37:50.462087Z",
     "shell.execute_reply": "2022-01-23T01:37:50.461447Z",
     "shell.execute_reply.started": "2022-01-23T01:28:23.265611Z"
    },
    "id": "HAbwoMekEeap",
    "outputId": "4b3572ef-e221-4516-e5e1-0de68ee9d32f",
    "papermill": {
     "duration": 12.117776,
     "end_time": "2022-01-23T01:37:50.462323",
     "exception": false,
     "start_time": "2022-01-23T01:37:38.344547",
     "status": "completed"
    },
    "tags": []
   },
   "outputs": [
    {
     "name": "stdout",
     "output_type": "stream",
     "text": [
      "Extracting all the files now...\n",
      "Done!\n",
      "11.06 seconds...\n"
     ]
    }
   ],
   "source": [
    "#Extraction process\n",
    "\n",
    "#1.0\n",
    "from zipfile import ZipFile\n",
    "\n",
    "#2.0\n",
    "file_name = \"./restoringdiacritics1.zip\"\n",
    "\n",
    "#3.0\n",
    "with ZipFile(file_name, 'r') as zip: \n",
    "  #zip.printdir()\n",
    "  lst = zip.namelist()\n",
    "  \n",
    "  #3.1\n",
    "  print('Extracting all the files now...') \n",
    "  tick = time.time()\n",
    "  zip.extractall()\n",
    "  tock = time.time()\n",
    "  print(f'Done!\\n{round((tock-tick),2)} seconds...')"
   ]
  },
  {
   "cell_type": "code",
   "execution_count": 4,
   "id": "ea9c1aca",
   "metadata": {
    "execution": {
     "iopub.execute_input": "2022-01-23T01:37:50.547443Z",
     "iopub.status.busy": "2022-01-23T01:37:50.546489Z",
     "iopub.status.idle": "2022-01-23T01:37:50.581287Z",
     "shell.execute_reply": "2022-01-23T01:37:50.580622Z",
     "shell.execute_reply.started": "2022-01-23T01:28:35.219013Z"
    },
    "jupyter": {
     "source_hidden": true
    },
    "papermill": {
     "duration": 0.078532,
     "end_time": "2022-01-23T01:37:50.581440",
     "exception": false,
     "start_time": "2022-01-23T01:37:50.502908",
     "status": "completed"
    },
    "tags": []
   },
   "outputs": [],
   "source": [
    "os.remove('./restoringdiacritics1.zip')"
   ]
  },
  {
   "cell_type": "code",
   "execution_count": 5,
   "id": "4aec9fb4",
   "metadata": {
    "execution": {
     "iopub.execute_input": "2022-01-23T01:37:50.670389Z",
     "iopub.status.busy": "2022-01-23T01:37:50.669351Z",
     "iopub.status.idle": "2022-01-23T01:37:55.749432Z",
     "shell.execute_reply": "2022-01-23T01:37:55.748814Z",
     "shell.execute_reply.started": "2022-01-23T01:32:57.401841Z"
    },
    "id": "3wDM6gNE5q4X",
    "papermill": {
     "duration": 5.126225,
     "end_time": "2022-01-23T01:37:55.749594",
     "exception": false,
     "start_time": "2022-01-23T01:37:50.623369",
     "status": "completed"
    },
    "tags": []
   },
   "outputs": [],
   "source": [
    "path = \"./\"\n",
    "\n",
    "train_df = pd.read_csv(path + 'train.csv', compression = 'zip')\n",
    "test_df = pd.read_csv(path + 'test.csv')"
   ]
  },
  {
   "cell_type": "markdown",
   "id": "904f129a",
   "metadata": {
    "id": "8oiQwaNz2QXy",
    "papermill": {
     "duration": 0.03763,
     "end_time": "2022-01-23T01:37:55.825018",
     "exception": false,
     "start_time": "2022-01-23T01:37:55.787388",
     "status": "completed"
    },
    "tags": []
   },
   "source": [
    "### **Process Train Data**"
   ]
  },
  {
   "cell_type": "code",
   "execution_count": 6,
   "id": "05eb1082",
   "metadata": {
    "execution": {
     "iopub.execute_input": "2022-01-23T01:37:55.905649Z",
     "iopub.status.busy": "2022-01-23T01:37:55.904980Z",
     "iopub.status.idle": "2022-01-23T01:37:55.915760Z",
     "shell.execute_reply": "2022-01-23T01:37:55.915092Z",
     "shell.execute_reply.started": "2022-01-23T01:33:11.512917Z"
    },
    "papermill": {
     "duration": 0.051924,
     "end_time": "2022-01-23T01:37:55.915907",
     "exception": false,
     "start_time": "2022-01-23T01:37:55.863983",
     "status": "completed"
    },
    "tags": []
   },
   "outputs": [
    {
     "data": {
      "text/plain": [
       "1185126"
      ]
     },
     "execution_count": 6,
     "metadata": {},
     "output_type": "execute_result"
    }
   ],
   "source": [
    "len(train_df)"
   ]
  },
  {
   "cell_type": "code",
   "execution_count": 7,
   "id": "8c3dd098",
   "metadata": {
    "execution": {
     "iopub.execute_input": "2022-01-23T01:37:55.998399Z",
     "iopub.status.busy": "2022-01-23T01:37:55.997620Z",
     "iopub.status.idle": "2022-01-23T01:37:56.000998Z",
     "shell.execute_reply": "2022-01-23T01:37:56.001521Z",
     "shell.execute_reply.started": "2022-01-23T01:33:18.042467Z"
    },
    "id": "-71zmSAo5q4Y",
    "outputId": "0a1d4bb4-be18-43d1-a987-95161e15d9b5",
    "papermill": {
     "duration": 0.04722,
     "end_time": "2022-01-23T01:37:56.001733",
     "exception": false,
     "start_time": "2022-01-23T01:37:55.954513",
     "status": "completed"
    },
    "tags": []
   },
   "outputs": [
    {
     "data": {
      "text/plain": [
       "(1185126, 1)"
      ]
     },
     "execution_count": 7,
     "metadata": {},
     "output_type": "execute_result"
    }
   ],
   "source": [
    "train_df.shape"
   ]
  },
  {
   "cell_type": "code",
   "execution_count": 8,
   "id": "a1f3e8c2",
   "metadata": {
    "execution": {
     "iopub.execute_input": "2022-01-23T01:37:56.089404Z",
     "iopub.status.busy": "2022-01-23T01:37:56.088752Z",
     "iopub.status.idle": "2022-01-23T01:37:56.100940Z",
     "shell.execute_reply": "2022-01-23T01:37:56.101480Z",
     "shell.execute_reply.started": "2022-01-23T01:33:18.052827Z"
    },
    "id": "lWxPFY_P5q4Z",
    "outputId": "ea13d718-c560-4f03-809e-6fdae1477262",
    "papermill": {
     "duration": 0.059762,
     "end_time": "2022-01-23T01:37:56.101655",
     "exception": false,
     "start_time": "2022-01-23T01:37:56.041893",
     "status": "completed"
    },
    "tags": []
   },
   "outputs": [
    {
     "data": {
      "text/html": [
       "<div>\n",
       "<style scoped>\n",
       "    .dataframe tbody tr th:only-of-type {\n",
       "        vertical-align: middle;\n",
       "    }\n",
       "\n",
       "    .dataframe tbody tr th {\n",
       "        vertical-align: top;\n",
       "    }\n",
       "\n",
       "    .dataframe thead th {\n",
       "        text-align: right;\n",
       "    }\n",
       "</style>\n",
       "<table border=\"1\" class=\"dataframe\">\n",
       "  <thead>\n",
       "    <tr style=\"text-align: right;\">\n",
       "      <th></th>\n",
       "      <th>0</th>\n",
       "      <th>1</th>\n",
       "      <th>2</th>\n",
       "      <th>3</th>\n",
       "      <th>4</th>\n",
       "    </tr>\n",
       "  </thead>\n",
       "  <tbody>\n",
       "    <tr>\n",
       "      <th>labels</th>\n",
       "      <td>A kì í ṣíwájú ẹlẹ́èẹ́dẹ́.</td>\n",
       "      <td>Èpè-é pọ̀ ju ohun tó nù lọ; abẹ́rẹ́ sọnù a gbé...</td>\n",
       "      <td>Bí a kò bá ṣe bí ẹlẹ́dẹ̀ lọ́nà Ìkòròdú, a ò lè...</td>\n",
       "      <td>A kì í fi idà pa ìgbín.</td>\n",
       "      <td>Ọkùnrin kì í ké, akọ igi kì í ṣoje.</td>\n",
       "    </tr>\n",
       "  </tbody>\n",
       "</table>\n",
       "</div>"
      ],
      "text/plain": [
       "                                0  \\\n",
       "labels  A kì í ṣíwájú ẹlẹ́èẹ́dẹ́.   \n",
       "\n",
       "                                                        1  \\\n",
       "labels  Èpè-é pọ̀ ju ohun tó nù lọ; abẹ́rẹ́ sọnù a gbé...   \n",
       "\n",
       "                                                        2  \\\n",
       "labels  Bí a kò bá ṣe bí ẹlẹ́dẹ̀ lọ́nà Ìkòròdú, a ò lè...   \n",
       "\n",
       "                              3                                    4  \n",
       "labels  A kì í fi idà pa ìgbín.  Ọkùnrin kì í ké, akọ igi kì í ṣoje.  "
      ]
     },
     "execution_count": 8,
     "metadata": {},
     "output_type": "execute_result"
    }
   ],
   "source": [
    "train_df.head().T"
   ]
  },
  {
   "cell_type": "code",
   "execution_count": 9,
   "id": "34687042",
   "metadata": {
    "execution": {
     "iopub.execute_input": "2022-01-23T01:37:56.193274Z",
     "iopub.status.busy": "2022-01-23T01:37:56.192304Z",
     "iopub.status.idle": "2022-01-23T01:37:56.196703Z",
     "shell.execute_reply": "2022-01-23T01:37:56.196061Z",
     "shell.execute_reply.started": "2022-01-23T01:33:18.077245Z"
    },
    "id": "hLZHYHkf5q4a",
    "outputId": "bd60a867-45ff-48a3-8ea0-71eaa8d0eaf1",
    "papermill": {
     "duration": 0.055543,
     "end_time": "2022-01-23T01:37:56.196845",
     "exception": false,
     "start_time": "2022-01-23T01:37:56.141302",
     "status": "completed"
    },
    "tags": []
   },
   "outputs": [
    {
     "data": {
      "text/html": [
       "<div>\n",
       "<style scoped>\n",
       "    .dataframe tbody tr th:only-of-type {\n",
       "        vertical-align: middle;\n",
       "    }\n",
       "\n",
       "    .dataframe tbody tr th {\n",
       "        vertical-align: top;\n",
       "    }\n",
       "\n",
       "    .dataframe thead th {\n",
       "        text-align: right;\n",
       "    }\n",
       "</style>\n",
       "<table border=\"1\" class=\"dataframe\">\n",
       "  <thead>\n",
       "    <tr style=\"text-align: right;\">\n",
       "      <th></th>\n",
       "      <th>1185121</th>\n",
       "      <th>1185122</th>\n",
       "      <th>1185123</th>\n",
       "      <th>1185124</th>\n",
       "      <th>1185125</th>\n",
       "    </tr>\n",
       "  </thead>\n",
       "  <tbody>\n",
       "    <tr>\n",
       "      <th>labels</th>\n",
       "      <td>13. B'ó bá k'ẹ̀gbẹ́ sí ẹ, kò bọ́si rárá-o. Fac...</td>\n",
       "      <td>14. B'ó bá bẹ̀rẹ̀ mọ́'lẹ̀, kò bọ́si rárá. Face...</td>\n",
       "      <td>15. À mọ́ kò lọ rántí wípé, láti [r]ìbà'dí ẹ t...</td>\n",
       "      <td>16. Láti [r]ìbà'dí ẹ títí lọ dé òkè orí, k'ó m...</td>\n",
       "      <td>17. Synchro System, ẹ máa jó!</td>\n",
       "    </tr>\n",
       "  </tbody>\n",
       "</table>\n",
       "</div>"
      ],
      "text/plain": [
       "                                                  1185121  \\\n",
       "labels  13. B'ó bá k'ẹ̀gbẹ́ sí ẹ, kò bọ́si rárá-o. Fac...   \n",
       "\n",
       "                                                  1185122  \\\n",
       "labels  14. B'ó bá bẹ̀rẹ̀ mọ́'lẹ̀, kò bọ́si rárá. Face...   \n",
       "\n",
       "                                                  1185123  \\\n",
       "labels  15. À mọ́ kò lọ rántí wípé, láti [r]ìbà'dí ẹ t...   \n",
       "\n",
       "                                                  1185124  \\\n",
       "labels  16. Láti [r]ìbà'dí ẹ títí lọ dé òkè orí, k'ó m...   \n",
       "\n",
       "                              1185125  \n",
       "labels  17. Synchro System, ẹ máa jó!  "
      ]
     },
     "execution_count": 9,
     "metadata": {},
     "output_type": "execute_result"
    }
   ],
   "source": [
    "train_df.tail().T"
   ]
  },
  {
   "cell_type": "code",
   "execution_count": 10,
   "id": "96bb1f55",
   "metadata": {
    "execution": {
     "iopub.execute_input": "2022-01-23T01:37:56.283344Z",
     "iopub.status.busy": "2022-01-23T01:37:56.282099Z",
     "iopub.status.idle": "2022-01-23T01:37:56.285982Z",
     "shell.execute_reply": "2022-01-23T01:37:56.286480Z",
     "shell.execute_reply.started": "2022-01-23T01:33:18.090949Z"
    },
    "id": "RCcYfdkg5q4b",
    "outputId": "0db00f27-0ae8-485f-9c82-ceb707260039",
    "papermill": {
     "duration": 0.049394,
     "end_time": "2022-01-23T01:37:56.286654",
     "exception": false,
     "start_time": "2022-01-23T01:37:56.237260",
     "status": "completed"
    },
    "tags": []
   },
   "outputs": [
    {
     "data": {
      "text/plain": [
       "'Ọ̀gá kan wà níbẹ̀ tó fẹ́ràn kó máa fi kòbókò na àwọn ọkùnrin náà .'"
      ]
     },
     "execution_count": 10,
     "metadata": {},
     "output_type": "execute_result"
    }
   ],
   "source": [
    "train_df.iloc[100_000].values[0]"
   ]
  },
  {
   "cell_type": "code",
   "execution_count": 11,
   "id": "2add7b57",
   "metadata": {
    "execution": {
     "iopub.execute_input": "2022-01-23T01:37:56.395236Z",
     "iopub.status.busy": "2022-01-23T01:37:56.377638Z",
     "iopub.status.idle": "2022-01-23T01:38:09.471135Z",
     "shell.execute_reply": "2022-01-23T01:38:09.470493Z",
     "shell.execute_reply.started": "2022-01-23T01:33:35.154969Z"
    },
    "id": "fsjamwb_5q4b",
    "papermill": {
     "duration": 13.142995,
     "end_time": "2022-01-23T01:38:09.471285",
     "exception": false,
     "start_time": "2022-01-23T01:37:56.328290",
     "status": "completed"
    },
    "tags": []
   },
   "outputs": [],
   "source": [
    "#Clean data\n",
    "#Remove English words\n",
    "cleaned_data = []\n",
    "for i, value in enumerate(train_df.labels.values):\n",
    "    high = max([ord(i) for i in list(value.lower())])\n",
    "    if (300 > high > 127) or (7935 > high > 7680):\n",
    "        cleaned_data.append(value.strip())"
   ]
  },
  {
   "cell_type": "code",
   "execution_count": 12,
   "id": "b7cbcf20",
   "metadata": {
    "execution": {
     "iopub.execute_input": "2022-01-23T01:38:09.583842Z",
     "iopub.status.busy": "2022-01-23T01:38:09.557933Z",
     "iopub.status.idle": "2022-01-23T01:38:09.828265Z",
     "shell.execute_reply": "2022-01-23T01:38:09.828814Z",
     "shell.execute_reply.started": "2022-01-23T01:33:47.897667Z"
    },
    "id": "YdNFXwZ6RV-4",
    "outputId": "1843b78f-5ff7-4a1b-9388-f82b85e5a5ff",
    "papermill": {
     "duration": 0.316278,
     "end_time": "2022-01-23T01:38:09.829019",
     "exception": false,
     "start_time": "2022-01-23T01:38:09.512741",
     "status": "completed"
    },
    "tags": []
   },
   "outputs": [
    {
     "data": {
      "text/plain": [
       "471724     Bákan náà ni ó rí ní àkókò ti Lọti. Wọ́n ń jẹ,...\n",
       "1090473    Ẹ máa yẹ́ gbogbo eniyan sí. Ẹ máa fẹ́ràn àwọn ...\n",
       "1034013                                                 àìjà\n",
       "719268     Dájúdájú , ìfẹ́ aládùúgbò wa jẹ́ ọ̀kan lára àm...\n",
       "1051501    Nígbà tí o bá ń rìn, o kò ní rí ìdínà,nígbà tí...\n",
       "dtype: object"
      ]
     },
     "execution_count": 12,
     "metadata": {},
     "output_type": "execute_result"
    }
   ],
   "source": [
    "pd.Series(cleaned_data).sample(5).T"
   ]
  },
  {
   "cell_type": "code",
   "execution_count": 13,
   "id": "85e4d789",
   "metadata": {
    "execution": {
     "iopub.execute_input": "2022-01-23T01:38:09.915512Z",
     "iopub.status.busy": "2022-01-23T01:38:09.914866Z",
     "iopub.status.idle": "2022-01-23T01:38:09.921012Z",
     "shell.execute_reply": "2022-01-23T01:38:09.921615Z",
     "shell.execute_reply.started": "2022-01-23T01:33:48.146646Z"
    },
    "id": "Rbt0huYcF2sF",
    "outputId": "3af39d9a-e105-4921-a83f-7254a834a51f",
    "papermill": {
     "duration": 0.049566,
     "end_time": "2022-01-23T01:38:09.921835",
     "exception": false,
     "start_time": "2022-01-23T01:38:09.872269",
     "status": "completed"
    },
    "tags": []
   },
   "outputs": [
    {
     "data": {
      "text/plain": [
       "1185126"
      ]
     },
     "execution_count": 13,
     "metadata": {},
     "output_type": "execute_result"
    }
   ],
   "source": [
    "len(cleaned_data)"
   ]
  },
  {
   "cell_type": "code",
   "execution_count": 14,
   "id": "3cd60284",
   "metadata": {
    "execution": {
     "iopub.execute_input": "2022-01-23T01:38:10.006809Z",
     "iopub.status.busy": "2022-01-23T01:38:10.005935Z",
     "iopub.status.idle": "2022-01-23T01:38:10.009404Z",
     "shell.execute_reply": "2022-01-23T01:38:10.009967Z",
     "shell.execute_reply.started": "2022-01-23T01:33:48.153210Z"
    },
    "papermill": {
     "duration": 0.047321,
     "end_time": "2022-01-23T01:38:10.010143",
     "exception": false,
     "start_time": "2022-01-23T01:38:09.962822",
     "status": "completed"
    },
    "tags": []
   },
   "outputs": [],
   "source": [
    "random.seed(42)"
   ]
  },
  {
   "cell_type": "code",
   "execution_count": 15,
   "id": "baddbb78",
   "metadata": {
    "execution": {
     "iopub.execute_input": "2022-01-23T01:38:10.112177Z",
     "iopub.status.busy": "2022-01-23T01:38:10.111500Z",
     "iopub.status.idle": "2022-01-23T01:38:11.585427Z",
     "shell.execute_reply": "2022-01-23T01:38:11.584715Z",
     "shell.execute_reply.started": "2022-01-23T01:33:48.166629Z"
    },
    "id": "VgCzQK6MT5gS",
    "papermill": {
     "duration": 1.534269,
     "end_time": "2022-01-23T01:38:11.585593",
     "exception": false,
     "start_time": "2022-01-23T01:38:10.051324",
     "status": "completed"
    },
    "tags": []
   },
   "outputs": [],
   "source": [
    "random.shuffle(cleaned_data)"
   ]
  },
  {
   "cell_type": "code",
   "execution_count": 16,
   "id": "5d8ed6cf",
   "metadata": {
    "execution": {
     "iopub.execute_input": "2022-01-23T01:38:11.675707Z",
     "iopub.status.busy": "2022-01-23T01:38:11.675034Z",
     "iopub.status.idle": "2022-01-23T01:38:19.454098Z",
     "shell.execute_reply": "2022-01-23T01:38:19.453228Z",
     "shell.execute_reply.started": "2022-01-23T01:33:49.713914Z"
    },
    "papermill": {
     "duration": 7.825836,
     "end_time": "2022-01-23T01:38:19.454288",
     "exception": false,
     "start_time": "2022-01-23T01:38:11.628452",
     "status": "completed"
    },
    "tags": []
   },
   "outputs": [
    {
     "name": "stdout",
     "output_type": "stream",
     "text": [
      "<class 'pandas.core.frame.DataFrame'>\n",
      "RangeIndex: 1185126 entries, 0 to 1185125\n",
      "Data columns (total 1 columns):\n",
      " #   Column  Non-Null Count    Dtype \n",
      "---  ------  --------------    ----- \n",
      " 0   labels  1185126 non-null  object\n",
      "dtypes: object(1)\n",
      "memory usage: 275.4 MB\n"
     ]
    }
   ],
   "source": [
    "train_df.to_csv(\"train.csv\", index = False)#, compression = 'zip')\n",
    "train_df.info(memory_usage = 'deep')"
   ]
  },
  {
   "cell_type": "code",
   "execution_count": 17,
   "id": "28c952e8",
   "metadata": {
    "execution": {
     "iopub.execute_input": "2022-01-23T01:38:19.542081Z",
     "iopub.status.busy": "2022-01-23T01:38:19.540929Z",
     "iopub.status.idle": "2022-01-23T01:38:19.752753Z",
     "shell.execute_reply": "2022-01-23T01:38:19.753266Z",
     "shell.execute_reply.started": "2022-01-23T01:33:57.696573Z"
    },
    "id": "687UyjtdTM-X",
    "outputId": "8fd71479-9ca4-4e29-9c6f-734ba5ae75b3",
    "papermill": {
     "duration": 0.257431,
     "end_time": "2022-01-23T01:38:19.753464",
     "exception": false,
     "start_time": "2022-01-23T01:38:19.496033",
     "status": "completed"
    },
    "tags": []
   },
   "outputs": [
    {
     "data": {
      "text/html": [
       "<div>\n",
       "<style scoped>\n",
       "    .dataframe tbody tr th:only-of-type {\n",
       "        vertical-align: middle;\n",
       "    }\n",
       "\n",
       "    .dataframe tbody tr th {\n",
       "        vertical-align: top;\n",
       "    }\n",
       "\n",
       "    .dataframe thead th {\n",
       "        text-align: right;\n",
       "    }\n",
       "</style>\n",
       "<table border=\"1\" class=\"dataframe\">\n",
       "  <thead>\n",
       "    <tr style=\"text-align: right;\">\n",
       "      <th></th>\n",
       "      <th>labels</th>\n",
       "    </tr>\n",
       "  </thead>\n",
       "  <tbody>\n",
       "    <tr>\n",
       "      <th>0</th>\n",
       "      <td>Lẹ́yìn tí wọ́n ṣègbéyàwó , aya náà sọ pé ẹ̀rí ...</td>\n",
       "    </tr>\n",
       "    <tr>\n",
       "      <th>1</th>\n",
       "      <td>wọ̀nyí ni nwọ́n níláti pamọ́ ní mímọ́, tí a sì...</td>\n",
       "    </tr>\n",
       "    <tr>\n",
       "      <th>2</th>\n",
       "      <td>Jòsáyà , tí í ṣe ọmọ Ámónì , ló wà lórí ìtẹ́ b...</td>\n",
       "    </tr>\n",
       "    <tr>\n",
       "      <th>3</th>\n",
       "      <td>Bí ọkùnrin méjì bá ń jà, tí ìyàwó ọ̀kan nínú w...</td>\n",
       "    </tr>\n",
       "    <tr>\n",
       "      <th>4</th>\n",
       "      <td>Lẹ́yìn èyí , Mósè gba àwọn wàláà òkúta méjì tí...</td>\n",
       "    </tr>\n",
       "  </tbody>\n",
       "</table>\n",
       "</div>"
      ],
      "text/plain": [
       "                                              labels\n",
       "0  Lẹ́yìn tí wọ́n ṣègbéyàwó , aya náà sọ pé ẹ̀rí ...\n",
       "1  wọ̀nyí ni nwọ́n níláti pamọ́ ní mímọ́, tí a sì...\n",
       "2  Jòsáyà , tí í ṣe ọmọ Ámónì , ló wà lórí ìtẹ́ b...\n",
       "3  Bí ọkùnrin méjì bá ń jà, tí ìyàwó ọ̀kan nínú w...\n",
       "4  Lẹ́yìn èyí , Mósè gba àwọn wàláà òkúta méjì tí..."
      ]
     },
     "execution_count": 17,
     "metadata": {},
     "output_type": "execute_result"
    }
   ],
   "source": [
    "df = pd.DataFrame(cleaned_data, columns = ['labels'])\n",
    "df.head()"
   ]
  },
  {
   "cell_type": "code",
   "execution_count": 18,
   "id": "8cfc2bf0",
   "metadata": {
    "execution": {
     "iopub.execute_input": "2022-01-23T01:38:20.851231Z",
     "iopub.status.busy": "2022-01-23T01:38:20.850234Z",
     "iopub.status.idle": "2022-01-23T01:38:21.357648Z",
     "shell.execute_reply": "2022-01-23T01:38:21.356830Z",
     "shell.execute_reply.started": "2022-01-23T01:33:57.888377Z"
    },
    "id": "IHM5vEYHrtd2",
    "outputId": "27cd37e2-bf36-4556-cbbd-e80d76b505d1",
    "papermill": {
     "duration": 1.560753,
     "end_time": "2022-01-23T01:38:21.357838",
     "exception": false,
     "start_time": "2022-01-23T01:38:19.797085",
     "status": "completed"
    },
    "tags": []
   },
   "outputs": [
    {
     "name": "stdout",
     "output_type": "stream",
     "text": [
      "<class 'pandas.core.frame.DataFrame'>\n",
      "RangeIndex: 1185126 entries, 0 to 1185125\n",
      "Data columns (total 1 columns):\n",
      " #   Column  Non-Null Count    Dtype \n",
      "---  ------  --------------    ----- \n",
      " 0   labels  1185126 non-null  object\n",
      "dtypes: object(1)\n",
      "memory usage: 275.4 MB\n"
     ]
    }
   ],
   "source": [
    "df.info(memory_usage = 'deep')"
   ]
  },
  {
   "cell_type": "code",
   "execution_count": 19,
   "id": "d426ec59",
   "metadata": {
    "execution": {
     "iopub.execute_input": "2022-01-23T01:38:22.102816Z",
     "iopub.status.busy": "2022-01-23T01:38:21.684006Z",
     "iopub.status.idle": "2022-01-23T01:38:23.338689Z",
     "shell.execute_reply": "2022-01-23T01:38:23.337966Z",
     "shell.execute_reply.started": "2022-01-23T01:33:58.761518Z"
    },
    "id": "eYK4N0nVr8dW",
    "papermill": {
     "duration": 1.937289,
     "end_time": "2022-01-23T01:38:23.338840",
     "exception": false,
     "start_time": "2022-01-23T01:38:21.401551",
     "status": "completed"
    },
    "tags": []
   },
   "outputs": [],
   "source": [
    "#Convert all the words to lowercase\n",
    "unstripped = df[\"labels\"].str.lower()"
   ]
  },
  {
   "cell_type": "code",
   "execution_count": 20,
   "id": "e30d7f46",
   "metadata": {
    "execution": {
     "iopub.execute_input": "2022-01-23T01:38:23.611883Z",
     "iopub.status.busy": "2022-01-23T01:38:23.610616Z",
     "iopub.status.idle": "2022-01-23T01:38:49.677953Z",
     "shell.execute_reply": "2022-01-23T01:38:49.676909Z",
     "shell.execute_reply.started": "2022-01-23T01:34:00.818721Z"
    },
    "id": "tUa2ZmuqxooV",
    "papermill": {
     "duration": 26.293463,
     "end_time": "2022-01-23T01:38:49.678333",
     "exception": false,
     "start_time": "2022-01-23T01:38:23.384870",
     "status": "completed"
    },
    "tags": []
   },
   "outputs": [
    {
     "name": "stderr",
     "output_type": "stream",
     "text": [
      "/opt/conda/lib/python3.7/site-packages/ipykernel_launcher.py:6: FutureWarning: The default value of regex will change from True to False in a future version.\n",
      "  \n",
      "/opt/conda/lib/python3.7/site-packages/ipykernel_launcher.py:6: FutureWarning: The default value of regex will change from True to False in a future version. In addition, single character regular expressions will *not* be treated as literal strings when regex=True.\n",
      "  \n"
     ]
    }
   ],
   "source": [
    "#remove syntaxes and digits\n",
    "d = ['\\d+', '/', '*', '.', '&', '#', \n",
    "     ',', '?', '-', '_', '(',\n",
    "     ')', '[', ']', '!', '%']\n",
    "for v in d:\n",
    "  unstripped = unstripped.str.replace(v, '')"
   ]
  },
  {
   "cell_type": "code",
   "execution_count": 21,
   "id": "98163d92",
   "metadata": {
    "execution": {
     "iopub.execute_input": "2022-01-23T01:38:49.776543Z",
     "iopub.status.busy": "2022-01-23T01:38:49.775838Z",
     "iopub.status.idle": "2022-01-23T01:38:52.740198Z",
     "shell.execute_reply": "2022-01-23T01:38:52.739585Z",
     "shell.execute_reply.started": "2022-01-23T01:34:26.740470Z"
    },
    "papermill": {
     "duration": 3.01491,
     "end_time": "2022-01-23T01:38:52.740354",
     "exception": false,
     "start_time": "2022-01-23T01:38:49.725444",
     "status": "completed"
    },
    "tags": []
   },
   "outputs": [],
   "source": [
    "df['labels'] = '\\t ' + unstripped.astype(str).str.strip() + ' \\n'"
   ]
  },
  {
   "cell_type": "code",
   "execution_count": 22,
   "id": "49c9c830",
   "metadata": {
    "execution": {
     "iopub.execute_input": "2022-01-23T01:38:52.832432Z",
     "iopub.status.busy": "2022-01-23T01:38:52.831720Z",
     "iopub.status.idle": "2022-01-23T01:40:02.143067Z",
     "shell.execute_reply": "2022-01-23T01:40:02.142479Z",
     "shell.execute_reply.started": "2022-01-23T01:34:30.947220Z"
    },
    "id": "4oHDtLh0s0Q3",
    "papermill": {
     "duration": 69.358393,
     "end_time": "2022-01-23T01:40:02.143240",
     "exception": false,
     "start_time": "2022-01-23T01:38:52.784847",
     "status": "completed"
    },
    "tags": []
   },
   "outputs": [],
   "source": [
    "#Strip Texts from Diacritics\n",
    "from unidecode import unidecode\n",
    "stripped_letters = []\n",
    "for i in unstripped:\n",
    "  strip_letters = unidecode(i)\n",
    "  stripped_letters.append(strip_letters)"
   ]
  },
  {
   "cell_type": "code",
   "execution_count": 23,
   "id": "f872fb72",
   "metadata": {
    "_kg_hide-output": true,
    "execution": {
     "iopub.execute_input": "2022-01-23T01:40:02.235589Z",
     "iopub.status.busy": "2022-01-23T01:40:02.234584Z",
     "iopub.status.idle": "2022-01-23T01:40:02.237043Z",
     "shell.execute_reply": "2022-01-23T01:40:02.237566Z",
     "shell.execute_reply.started": "2022-01-23T01:35:38.892863Z"
    },
    "id": "tc3723MEvSWE",
    "papermill": {
     "duration": 0.050949,
     "end_time": "2022-01-23T01:40:02.237756",
     "exception": false,
     "start_time": "2022-01-23T01:40:02.186807",
     "status": "completed"
    },
    "tags": []
   },
   "outputs": [],
   "source": [
    "#stripped_letters"
   ]
  },
  {
   "cell_type": "code",
   "execution_count": 24,
   "id": "bf294447",
   "metadata": {
    "execution": {
     "iopub.execute_input": "2022-01-23T01:40:02.350755Z",
     "iopub.status.busy": "2022-01-23T01:40:02.349655Z",
     "iopub.status.idle": "2022-01-23T01:40:03.236458Z",
     "shell.execute_reply": "2022-01-23T01:40:03.237031Z",
     "shell.execute_reply.started": "2022-01-23T01:35:39.466701Z"
    },
    "id": "eNGyHoBG1hrm",
    "papermill": {
     "duration": 0.954936,
     "end_time": "2022-01-23T01:40:03.237215",
     "exception": false,
     "start_time": "2022-01-23T01:40:02.282279",
     "status": "completed"
    },
    "tags": []
   },
   "outputs": [],
   "source": [
    "df[\"feature\"] = pd.Series(stripped_letters).str.strip()"
   ]
  },
  {
   "cell_type": "code",
   "execution_count": 25,
   "id": "88677522",
   "metadata": {
    "execution": {
     "iopub.execute_input": "2022-01-23T01:40:03.664944Z",
     "iopub.status.busy": "2022-01-23T01:40:03.327780Z",
     "iopub.status.idle": "2022-01-23T01:40:03.671613Z",
     "shell.execute_reply": "2022-01-23T01:40:03.671041Z",
     "shell.execute_reply.started": "2022-01-23T01:35:40.520360Z"
    },
    "id": "mGfXngKR1th2",
    "outputId": "3fd2ad2d-6a6b-4ebe-de81-431db589d2ce",
    "papermill": {
     "duration": 0.390746,
     "end_time": "2022-01-23T01:40:03.671768",
     "exception": false,
     "start_time": "2022-01-23T01:40:03.281022",
     "status": "completed"
    },
    "tags": []
   },
   "outputs": [
    {
     "data": {
      "text/html": [
       "<div>\n",
       "<style scoped>\n",
       "    .dataframe tbody tr th:only-of-type {\n",
       "        vertical-align: middle;\n",
       "    }\n",
       "\n",
       "    .dataframe tbody tr th {\n",
       "        vertical-align: top;\n",
       "    }\n",
       "\n",
       "    .dataframe thead th {\n",
       "        text-align: right;\n",
       "    }\n",
       "</style>\n",
       "<table border=\"1\" class=\"dataframe\">\n",
       "  <thead>\n",
       "    <tr style=\"text-align: right;\">\n",
       "      <th></th>\n",
       "      <th>labels</th>\n",
       "      <th>feature</th>\n",
       "    </tr>\n",
       "  </thead>\n",
       "  <tbody>\n",
       "    <tr>\n",
       "      <th>0</th>\n",
       "      <td>\\t lẹ́yìn tí wọ́n ṣègbéyàwó  aya náà sọ pé ẹ̀r...</td>\n",
       "      <td>leyin ti won segbeyawo  aya naa so pe eri okan...</td>\n",
       "    </tr>\n",
       "    <tr>\n",
       "      <th>1</th>\n",
       "      <td>\\t wọ̀nyí ni nwọ́n níláti pamọ́ ní mímọ́ tí a ...</td>\n",
       "      <td>wonyi ni nwon nilati pamo ni mimo ti a si gbe ...</td>\n",
       "    </tr>\n",
       "    <tr>\n",
       "      <th>2</th>\n",
       "      <td>\\t jòsáyà  tí í ṣe ọmọ ámónì  ló wà lórí ìtẹ́ ...</td>\n",
       "      <td>josaya  ti i se omo amoni  lo wa lori ite bayii</td>\n",
       "    </tr>\n",
       "    <tr>\n",
       "      <th>3</th>\n",
       "      <td>\\t bí ọkùnrin méjì bá ń jà tí ìyàwó ọ̀kan nínú...</td>\n",
       "      <td>bi okunrin meji ba n ja ti iyawo okan ninu won...</td>\n",
       "    </tr>\n",
       "    <tr>\n",
       "      <th>4</th>\n",
       "      <td>\\t lẹ́yìn èyí  mósè gba àwọn wàláà òkúta méjì ...</td>\n",
       "      <td>leyin eyi  mose gba awon walaa okuta meji ti o...</td>\n",
       "    </tr>\n",
       "  </tbody>\n",
       "</table>\n",
       "</div>"
      ],
      "text/plain": [
       "                                              labels  \\\n",
       "0  \\t lẹ́yìn tí wọ́n ṣègbéyàwó  aya náà sọ pé ẹ̀r...   \n",
       "1  \\t wọ̀nyí ni nwọ́n níláti pamọ́ ní mímọ́ tí a ...   \n",
       "2  \\t jòsáyà  tí í ṣe ọmọ ámónì  ló wà lórí ìtẹ́ ...   \n",
       "3  \\t bí ọkùnrin méjì bá ń jà tí ìyàwó ọ̀kan nínú...   \n",
       "4  \\t lẹ́yìn èyí  mósè gba àwọn wàláà òkúta méjì ...   \n",
       "\n",
       "                                             feature  \n",
       "0  leyin ti won segbeyawo  aya naa so pe eri okan...  \n",
       "1  wonyi ni nwon nilati pamo ni mimo ti a si gbe ...  \n",
       "2    josaya  ti i se omo amoni  lo wa lori ite bayii  \n",
       "3  bi okunrin meji ba n ja ti iyawo okan ninu won...  \n",
       "4  leyin eyi  mose gba awon walaa okuta meji ti o...  "
      ]
     },
     "execution_count": 25,
     "metadata": {},
     "output_type": "execute_result"
    }
   ],
   "source": [
    "df.head()"
   ]
  },
  {
   "cell_type": "code",
   "execution_count": 26,
   "id": "72f66090",
   "metadata": {
    "execution": {
     "iopub.execute_input": "2022-01-23T01:40:03.798637Z",
     "iopub.status.busy": "2022-01-23T01:40:03.797930Z",
     "iopub.status.idle": "2022-01-23T01:40:06.986600Z",
     "shell.execute_reply": "2022-01-23T01:40:06.985940Z",
     "shell.execute_reply.started": "2022-01-23T01:35:40.534850Z"
    },
    "id": "CkZNWgVeE63_",
    "outputId": "cd6057d9-058d-4e59-f2d0-d36748ce324d",
    "papermill": {
     "duration": 3.271635,
     "end_time": "2022-01-23T01:40:06.986759",
     "exception": false,
     "start_time": "2022-01-23T01:40:03.715124",
     "status": "completed"
    },
    "tags": []
   },
   "outputs": [
    {
     "name": "stdout",
     "output_type": "stream",
     "text": [
      "Crinmatic\r\n",
      "Oluseunalagbee@gmailcom\r\n"
     ]
    }
   ],
   "source": [
    "!git config --global user.name \"Crinmatic\"\n",
    "!git config --global user.email \"Oluseunalagbee@gmailcom\"\n",
    "!git config --global user.name\n",
    "!git config --global user.email"
   ]
  },
  {
   "cell_type": "code",
   "execution_count": 27,
   "id": "cf6db814",
   "metadata": {
    "execution": {
     "iopub.execute_input": "2022-01-23T01:40:07.096047Z",
     "iopub.status.busy": "2022-01-23T01:40:07.082167Z",
     "iopub.status.idle": "2022-01-23T01:40:20.496569Z",
     "shell.execute_reply": "2022-01-23T01:40:20.495621Z",
     "shell.execute_reply.started": "2022-01-23T01:35:43.740001Z"
    },
    "id": "gNwI7zDhfxuM",
    "papermill": {
     "duration": 13.466456,
     "end_time": "2022-01-23T01:40:20.496775",
     "exception": false,
     "start_time": "2022-01-23T01:40:07.030319",
     "status": "completed"
    },
    "tags": []
   },
   "outputs": [
    {
     "name": "stdout",
     "output_type": "stream",
     "text": [
      "<class 'pandas.core.frame.DataFrame'>\n",
      "RangeIndex: 1185126 entries, 0 to 1185125\n",
      "Data columns (total 2 columns):\n",
      " #   Column   Non-Null Count    Dtype \n",
      "---  ------   --------------    ----- \n",
      " 0   labels   1185126 non-null  object\n",
      " 1   feature  1185126 non-null  object\n",
      "dtypes: object(2)\n",
      "memory usage: 427.3 MB\n"
     ]
    }
   ],
   "source": [
    "df.to_csv(\"new_train.csv\", index = False)#, compression = 'zip')\n",
    "df.info(memory_usage = 'deep')"
   ]
  },
  {
   "cell_type": "code",
   "execution_count": 28,
   "id": "502597cd",
   "metadata": {
    "execution": {
     "iopub.execute_input": "2022-01-23T01:40:20.593981Z",
     "iopub.status.busy": "2022-01-23T01:40:20.593296Z",
     "iopub.status.idle": "2022-01-23T01:40:21.403858Z",
     "shell.execute_reply": "2022-01-23T01:40:21.403139Z",
     "shell.execute_reply.started": "2022-01-23T01:35:57.666838Z"
    },
    "id": "0OqJeKkBhjdF",
    "outputId": "31c40f67-1e33-455e-8902-c9bdb2ab05cd",
    "papermill": {
     "duration": 0.860104,
     "end_time": "2022-01-23T01:40:21.404001",
     "exception": false,
     "start_time": "2022-01-23T01:40:20.543897",
     "status": "completed"
    },
    "tags": []
   },
   "outputs": [
    {
     "name": "stdout",
     "output_type": "stream",
     "text": [
      "----------  1 root root     50299 Jan 23 01:40 __notebook__.ipynb\r\n",
      "-rw-r--r--  1 root root 232322485 Jan 23 01:40 new_train.csv\r\n",
      "-rw-r--r--  1 root root    188284 Jan 23 01:37 test.csv\r\n",
      "-rw-r--r--  1 root root 139519307 Jan 23 01:38 train.csv\r\n",
      "\r\n",
      "yoruba-text:\r\n",
      "total 176\r\n",
      "drwxr-xr-x 2 root root  4096 Jan 23 01:37 Alabi_YorubaTwi_Embedding\r\n",
      "drwxr-xr-x 2 root root  4096 Jan 23 01:37 Asubiaro_LangID\r\n",
      "drwxr-xr-x 4 root root  4096 Jan 23 01:37 Bibeli_Mimo\r\n",
      "drwxr-xr-x 3 root root  4096 Jan 23 01:37 Book_of_Mormon\r\n",
      "drwxr-xr-x 2 root root  4096 Jan 23 01:37 Iroyin\r\n",
      "drwxr-xr-x 2 root root  4096 Jan 23 01:37 JW300\r\n",
      "-rw-r--r-- 1 root root 35149 Jan 23 01:37 LICENSE\r\n",
      "drwxr-xr-x 3 root root  4096 Jan 23 01:37 LagosNWU\r\n",
      "drwxr-xr-x 2 root root  4096 Jan 23 01:37 Lesika\r\n",
      "drwxr-xr-x 4 root root  4096 Jan 23 01:37 OCR_Text\r\n",
      "drwxr-xr-x 4 root root  4096 Jan 23 01:37 Owe\r\n",
      "drwxr-xr-x 2 root root 57344 Jan 23 01:37 Quran_Mimo\r\n",
      "-rw-r--r-- 1 root root  2747 Jan 23 01:37 README.md\r\n",
      "drwxr-xr-x 2 root root  4096 Jan 23 01:37 SLR86\r\n",
      "-rw-r--r-- 1 root root  2816 Jan 23 01:37 Synchro_System_Movement.txt\r\n",
      "drwxr-xr-x 2 root root  4096 Jan 23 01:37 TheYorubaBlog\r\n",
      "drwxr-xr-x 2 root root  4096 Jan 23 01:37 Universal_Declaration_Human_Rights\r\n",
      "drwxr-xr-x 2 root root  4096 Jan 23 01:37 YorubaForAcademicPurpose\r\n",
      "-rw-r--r-- 1 root root  4444 Jan 23 01:37 dataset_scorer.py\r\n",
      "-rw-r--r-- 1 root root  8550 Jan 23 01:37 test_yoruba_diacritic_removal.py\r\n"
     ]
    }
   ],
   "source": [
    "!ls -l *"
   ]
  },
  {
   "cell_type": "markdown",
   "id": "d1b282d0",
   "metadata": {
    "id": "d0MrDY_b5q4d",
    "papermill": {
     "duration": 0.043962,
     "end_time": "2022-01-23T01:40:21.493502",
     "exception": false,
     "start_time": "2022-01-23T01:40:21.449540",
     "status": "completed"
    },
    "tags": []
   },
   "source": [
    "### **Process Test Data**"
   ]
  },
  {
   "cell_type": "code",
   "execution_count": 29,
   "id": "06938bae",
   "metadata": {
    "execution": {
     "iopub.execute_input": "2022-01-23T01:40:21.593265Z",
     "iopub.status.busy": "2022-01-23T01:40:21.592589Z",
     "iopub.status.idle": "2022-01-23T01:40:21.595051Z",
     "shell.execute_reply": "2022-01-23T01:40:21.595532Z",
     "shell.execute_reply.started": "2022-01-23T01:35:58.496807Z"
    },
    "id": "0TTjwWDV5q4d",
    "outputId": "104e1e71-945d-423b-b6a8-3ad48ced695e",
    "papermill": {
     "duration": 0.056272,
     "end_time": "2022-01-23T01:40:21.595728",
     "exception": false,
     "start_time": "2022-01-23T01:40:21.539456",
     "status": "completed"
    },
    "tags": []
   },
   "outputs": [
    {
     "data": {
      "text/plain": [
       "(4334, 1)"
      ]
     },
     "execution_count": 29,
     "metadata": {},
     "output_type": "execute_result"
    }
   ],
   "source": [
    "test_df.shape"
   ]
  },
  {
   "cell_type": "code",
   "execution_count": 30,
   "id": "9ecf2365",
   "metadata": {
    "execution": {
     "iopub.execute_input": "2022-01-23T01:40:21.712101Z",
     "iopub.status.busy": "2022-01-23T01:40:21.702831Z",
     "iopub.status.idle": "2022-01-23T01:40:21.726714Z",
     "shell.execute_reply": "2022-01-23T01:40:21.727428Z",
     "shell.execute_reply.started": "2022-01-23T01:35:58.506420Z"
    },
    "id": "DIl7DsUH5q4d",
    "outputId": "6e173837-5200-4aca-fcb0-a89305bbfb97",
    "papermill": {
     "duration": 0.082614,
     "end_time": "2022-01-23T01:40:21.727647",
     "exception": false,
     "start_time": "2022-01-23T01:40:21.645033",
     "status": "completed"
    },
    "tags": []
   },
   "outputs": [
    {
     "data": {
      "text/html": [
       "<div>\n",
       "<style scoped>\n",
       "    .dataframe tbody tr th:only-of-type {\n",
       "        vertical-align: middle;\n",
       "    }\n",
       "\n",
       "    .dataframe tbody tr th {\n",
       "        vertical-align: top;\n",
       "    }\n",
       "\n",
       "    .dataframe thead th {\n",
       "        text-align: right;\n",
       "    }\n",
       "</style>\n",
       "<table border=\"1\" class=\"dataframe\">\n",
       "  <thead>\n",
       "    <tr style=\"text-align: right;\">\n",
       "      <th></th>\n",
       "      <th>0</th>\n",
       "      <th>1</th>\n",
       "      <th>2</th>\n",
       "      <th>3</th>\n",
       "      <th>4</th>\n",
       "    </tr>\n",
       "  </thead>\n",
       "  <tbody>\n",
       "    <tr>\n",
       "      <th>labels</th>\n",
       "      <td>ṣùgbọ́n ọlọpáá alábòójútó ìhámọ...</td>\n",
       "      <td>ẹ̀bẹ̀ mo bẹ̀ ọ́ olúwa</td>\n",
       "      <td>áfíríkà nínú ìgbìmọ̀ ààbò àjọ</td>\n",
       "      <td>ó kà nítòrì nípa lílọ</td>\n",
       "      <td>jáde ilé ìwé àgbà yunifásítì</td>\n",
       "    </tr>\n",
       "  </tbody>\n",
       "</table>\n",
       "</div>"
      ],
      "text/plain": [
       "                                                        0  \\\n",
       "labels  ṣùgbọ́n ọlọpáá alábòójútó ìhámọ...   \n",
       "\n",
       "                                 1  \\\n",
       "labels  ẹ̀bẹ̀ mo bẹ̀ ọ́ olúwa   \n",
       "\n",
       "                                                  2  \\\n",
       "labels  áfíríkà nínú ìgbìmọ̀ ààbò àjọ   \n",
       "\n",
       "                                    3                                      4  \n",
       "labels  ó kà nítòrì nípa lílọ  jáde ilé ìwé àgbà yunifásítì  "
      ]
     },
     "execution_count": 30,
     "metadata": {},
     "output_type": "execute_result"
    }
   ],
   "source": [
    "test_df.head().T"
   ]
  },
  {
   "cell_type": "code",
   "execution_count": 31,
   "id": "03dee987",
   "metadata": {
    "execution": {
     "iopub.execute_input": "2022-01-23T01:40:21.835008Z",
     "iopub.status.busy": "2022-01-23T01:40:21.834300Z",
     "iopub.status.idle": "2022-01-23T01:40:21.844724Z",
     "shell.execute_reply": "2022-01-23T01:40:21.845254Z",
     "shell.execute_reply.started": "2022-01-23T01:35:58.527723Z"
    },
    "id": "eYK4N0nVr8dW",
    "papermill": {
     "duration": 0.058793,
     "end_time": "2022-01-23T01:40:21.845431",
     "exception": false,
     "start_time": "2022-01-23T01:40:21.786638",
     "status": "completed"
    },
    "tags": []
   },
   "outputs": [],
   "source": [
    "#Convert all the words to lowercase\n",
    "nonstripped = test_df[\"labels\"].str.lower()"
   ]
  },
  {
   "cell_type": "code",
   "execution_count": 32,
   "id": "64bfede8",
   "metadata": {
    "_kg_hide-output": true,
    "execution": {
     "iopub.execute_input": "2022-01-23T01:40:21.938945Z",
     "iopub.status.busy": "2022-01-23T01:40:21.938259Z",
     "iopub.status.idle": "2022-01-23T01:40:22.004993Z",
     "shell.execute_reply": "2022-01-23T01:40:22.005476Z",
     "shell.execute_reply.started": "2022-01-23T01:35:58.546519Z"
    },
    "id": "tUa2ZmuqxooV",
    "papermill": {
     "duration": 0.115139,
     "end_time": "2022-01-23T01:40:22.005641",
     "exception": false,
     "start_time": "2022-01-23T01:40:21.890502",
     "status": "completed"
    },
    "tags": []
   },
   "outputs": [
    {
     "name": "stderr",
     "output_type": "stream",
     "text": [
      "/opt/conda/lib/python3.7/site-packages/ipykernel_launcher.py:4: FutureWarning: The default value of regex will change from True to False in a future version.\n",
      "  after removing the cwd from sys.path.\n",
      "/opt/conda/lib/python3.7/site-packages/ipykernel_launcher.py:4: FutureWarning: The default value of regex will change from True to False in a future version. In addition, single character regular expressions will *not* be treated as literal strings when regex=True.\n",
      "  after removing the cwd from sys.path.\n"
     ]
    }
   ],
   "source": [
    "#remove syntaxes and digits\n",
    "d = ['\\d+', '/', '*', '.', '&', '#', ',', '?', '-', '_', '(', ')', '[', ']', '!', '%']\n",
    "\n",
    "for v in d: nonstripped = nonstripped.str.replace(v, '')"
   ]
  },
  {
   "cell_type": "code",
   "execution_count": 33,
   "id": "48653263",
   "metadata": {
    "execution": {
     "iopub.execute_input": "2022-01-23T01:40:22.100551Z",
     "iopub.status.busy": "2022-01-23T01:40:22.099890Z",
     "iopub.status.idle": "2022-01-23T01:40:22.115361Z",
     "shell.execute_reply": "2022-01-23T01:40:22.115902Z",
     "shell.execute_reply.started": "2022-01-23T01:35:58.685660Z"
    },
    "papermill": {
     "duration": 0.065142,
     "end_time": "2022-01-23T01:40:22.116078",
     "exception": false,
     "start_time": "2022-01-23T01:40:22.050936",
     "status": "completed"
    },
    "tags": []
   },
   "outputs": [],
   "source": [
    "test_df['labels'] = '\\t ' + nonstripped.astype(str).str.strip() + ' \\n'"
   ]
  },
  {
   "cell_type": "code",
   "execution_count": 34,
   "id": "f245aa81",
   "metadata": {
    "execution": {
     "iopub.execute_input": "2022-01-23T01:40:22.216574Z",
     "iopub.status.busy": "2022-01-23T01:40:22.215926Z",
     "iopub.status.idle": "2022-01-23T01:40:22.336509Z",
     "shell.execute_reply": "2022-01-23T01:40:22.335722Z",
     "shell.execute_reply.started": "2022-01-23T01:35:58.699836Z"
    },
    "id": "4oHDtLh0s0Q3",
    "papermill": {
     "duration": 0.172606,
     "end_time": "2022-01-23T01:40:22.336662",
     "exception": false,
     "start_time": "2022-01-23T01:40:22.164056",
     "status": "completed"
    },
    "tags": []
   },
   "outputs": [],
   "source": [
    "#Strip Texts from Diacritics\n",
    "from unidecode import unidecode\n",
    "stripped_chr = []\n",
    "for i in nonstripped:\n",
    "    strip_chr = unidecode(i)\n",
    "    stripped_chr.append(strip_chr)"
   ]
  },
  {
   "cell_type": "code",
   "execution_count": 35,
   "id": "a9d48b20",
   "metadata": {
    "_kg_hide-output": true,
    "execution": {
     "iopub.execute_input": "2022-01-23T01:40:22.786890Z",
     "iopub.status.busy": "2022-01-23T01:40:22.786159Z",
     "iopub.status.idle": "2022-01-23T01:40:22.787711Z",
     "shell.execute_reply": "2022-01-23T01:40:22.788146Z",
     "shell.execute_reply.started": "2022-01-23T01:35:58.821536Z"
    },
    "id": "tc3723MEvSWE",
    "papermill": {
     "duration": 0.052435,
     "end_time": "2022-01-23T01:40:22.788313",
     "exception": false,
     "start_time": "2022-01-23T01:40:22.735878",
     "status": "completed"
    },
    "tags": []
   },
   "outputs": [],
   "source": [
    "#stripped_chr"
   ]
  },
  {
   "cell_type": "code",
   "execution_count": 36,
   "id": "ef5e8a52",
   "metadata": {
    "execution": {
     "iopub.execute_input": "2022-01-23T01:40:22.893363Z",
     "iopub.status.busy": "2022-01-23T01:40:22.885207Z",
     "iopub.status.idle": "2022-01-23T01:40:22.896690Z",
     "shell.execute_reply": "2022-01-23T01:40:22.896069Z",
     "shell.execute_reply.started": "2022-01-23T01:35:58.828866Z"
    },
    "id": "eNGyHoBG1hrm",
    "papermill": {
     "duration": 0.063047,
     "end_time": "2022-01-23T01:40:22.896865",
     "exception": false,
     "start_time": "2022-01-23T01:40:22.833818",
     "status": "completed"
    },
    "tags": []
   },
   "outputs": [],
   "source": [
    "test_df[\"feature\"] = pd.Series(stripped_chr).str.strip()"
   ]
  },
  {
   "cell_type": "code",
   "execution_count": 37,
   "id": "e4dc95ad",
   "metadata": {
    "execution": {
     "iopub.execute_input": "2022-01-23T01:40:22.995462Z",
     "iopub.status.busy": "2022-01-23T01:40:22.994839Z",
     "iopub.status.idle": "2022-01-23T01:40:23.000297Z",
     "shell.execute_reply": "2022-01-23T01:40:23.000900Z",
     "shell.execute_reply.started": "2022-01-23T01:35:58.845779Z"
    },
    "papermill": {
     "duration": 0.057947,
     "end_time": "2022-01-23T01:40:23.001081",
     "exception": false,
     "start_time": "2022-01-23T01:40:22.943134",
     "status": "completed"
    },
    "tags": []
   },
   "outputs": [
    {
     "data": {
      "text/html": [
       "<div>\n",
       "<style scoped>\n",
       "    .dataframe tbody tr th:only-of-type {\n",
       "        vertical-align: middle;\n",
       "    }\n",
       "\n",
       "    .dataframe tbody tr th {\n",
       "        vertical-align: top;\n",
       "    }\n",
       "\n",
       "    .dataframe thead th {\n",
       "        text-align: right;\n",
       "    }\n",
       "</style>\n",
       "<table border=\"1\" class=\"dataframe\">\n",
       "  <thead>\n",
       "    <tr style=\"text-align: right;\">\n",
       "      <th></th>\n",
       "      <th>labels</th>\n",
       "      <th>feature</th>\n",
       "    </tr>\n",
       "  </thead>\n",
       "  <tbody>\n",
       "    <tr>\n",
       "      <th>0</th>\n",
       "      <td>\\t ṣùgbọ́n ọlọpáá alábòójútó ìhá...</td>\n",
       "      <td>sugbon olopaa alaboojuto ihamo le</td>\n",
       "    </tr>\n",
       "    <tr>\n",
       "      <th>1</th>\n",
       "      <td>\\t ẹ̀bẹ̀ mo bẹ̀ ọ́ olúwa \\n</td>\n",
       "      <td>ebe mo be o oluwa</td>\n",
       "    </tr>\n",
       "    <tr>\n",
       "      <th>2</th>\n",
       "      <td>\\t áfíríkà nínú ìgbìmọ̀ ààbò àjọ \\n</td>\n",
       "      <td>afirika ninu igbimo aabo ajo</td>\n",
       "    </tr>\n",
       "    <tr>\n",
       "      <th>3</th>\n",
       "      <td>\\t ó kà nítòrì nípa lílọ \\n</td>\n",
       "      <td>o ka nitori nipa lilo</td>\n",
       "    </tr>\n",
       "    <tr>\n",
       "      <th>4</th>\n",
       "      <td>\\t jáde ilé ìwé àgbà yunifásítì \\n</td>\n",
       "      <td>jade ile iwe agba yunifasiti</td>\n",
       "    </tr>\n",
       "  </tbody>\n",
       "</table>\n",
       "</div>"
      ],
      "text/plain": [
       "                                              labels  \\\n",
       "0  \\t ṣùgbọ́n ọlọpáá alábòójútó ìhá...   \n",
       "1                   \\t ẹ̀bẹ̀ mo bẹ̀ ọ́ olúwa \\n   \n",
       "2  \\t áfíríkà nínú ìgbìmọ̀ ààbò àjọ \\n   \n",
       "3                \\t ó kà nítòrì nípa lílọ \\n   \n",
       "4        \\t jáde ilé ìwé àgbà yunifásítì \\n   \n",
       "\n",
       "                             feature  \n",
       "0  sugbon olopaa alaboojuto ihamo le  \n",
       "1                  ebe mo be o oluwa  \n",
       "2       afirika ninu igbimo aabo ajo  \n",
       "3              o ka nitori nipa lilo  \n",
       "4       jade ile iwe agba yunifasiti  "
      ]
     },
     "execution_count": 37,
     "metadata": {},
     "output_type": "execute_result"
    }
   ],
   "source": [
    "test_df.head()"
   ]
  },
  {
   "cell_type": "code",
   "execution_count": 38,
   "id": "804b164b",
   "metadata": {
    "execution": {
     "iopub.execute_input": "2022-01-23T01:40:23.094864Z",
     "iopub.status.busy": "2022-01-23T01:40:23.094238Z",
     "iopub.status.idle": "2022-01-23T01:40:23.133579Z",
     "shell.execute_reply": "2022-01-23T01:40:23.132740Z",
     "shell.execute_reply.started": "2022-01-23T01:35:58.859273Z"
    },
    "id": "wManNTye5q4e",
    "papermill": {
     "duration": 0.087216,
     "end_time": "2022-01-23T01:40:23.133786",
     "exception": false,
     "start_time": "2022-01-23T01:40:23.046570",
     "status": "completed"
    },
    "tags": []
   },
   "outputs": [
    {
     "name": "stdout",
     "output_type": "stream",
     "text": [
      "<class 'pandas.core.frame.DataFrame'>\n",
      "RangeIndex: 4334 entries, 0 to 4333\n",
      "Data columns (total 2 columns):\n",
      " #   Column   Non-Null Count  Dtype \n",
      "---  ------   --------------  ----- \n",
      " 0   labels   4334 non-null   object\n",
      " 1   feature  4334 non-null   object\n",
      "dtypes: object(2)\n",
      "memory usage: 996.3 KB\n"
     ]
    }
   ],
   "source": [
    "test_df.to_csv(\"new_test.csv\", index = False)\n",
    "test_df.info(memory_usage = 'deep')"
   ]
  }
 ],
 "metadata": {
  "kernelspec": {
   "display_name": "Python 3",
   "language": "python",
   "name": "python3"
  },
  "language_info": {
   "codemirror_mode": {
    "name": "ipython",
    "version": 3
   },
   "file_extension": ".py",
   "mimetype": "text/x-python",
   "name": "python",
   "nbconvert_exporter": "python",
   "pygments_lexer": "ipython3",
   "version": "3.7.12"
  },
  "papermill": {
   "default_parameters": {},
   "duration": 190.106365,
   "end_time": "2022-01-23T01:40:25.299606",
   "environment_variables": {},
   "exception": null,
   "input_path": "__notebook__.ipynb",
   "output_path": "__notebook__.ipynb",
   "parameters": {},
   "start_time": "2022-01-23T01:37:15.193241",
   "version": "2.3.3"
  }
 },
 "nbformat": 4,
 "nbformat_minor": 5
}
